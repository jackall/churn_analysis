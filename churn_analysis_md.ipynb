{
 "cells": [
  {
   "cell_type": "markdown",
   "metadata": {},
   "source": [
    "# Yet another look at Telco customer churn problem"
   ]
  },
  {
   "cell_type": "markdown",
   "metadata": {},
   "source": [
    "## TL;DR\n",
    "### This notebook aims at showing the difference between Kaggle world and the real-world using telco churn dataset. An example, how you could look at the problem and build applicable solution, that might be acceptable by the business. \n",
    "### How to do some of the feature engineering and how to create training dataset that makes sense\n",
    "### How to build a baseline model - I am not focusing on tuning the model or building multiple models, you all know how to do that better than me.\n",
    "### I am trying to focus on consequences of the model and how important it is to put modelling into right business context and be able to show model value. "
   ]
  },
  {
   "cell_type": "markdown",
   "metadata": {},
   "source": [
    "- <a href='#1'>1. EDA</a>\n",
    "    - <a href='#1.1'>1.1. Exploratory data analysis</a>\n",
    "    - <a href='#1.2'>1.2. Missing Values exploration</a>\n",
    "    - <a href='#1.3'>1.3. Churn breakdown</a>\n",
    "    - <a href='#1.4'>1.4. Data distributions against Churn flag</a>\n",
    "- <a href='#2'>2. Feature preparation</a>\n",
    "    - <a href='#2.1'>2.1. Feature engineering</a>\n",
    "- <a href='#3'>3. Modelling</a>\n",
    "    - <a href='#3.1'>3.1. Analysing and transforming results</a>\n",
    "    - <a href='#3.2'>3.2. Threshold selection</a>\n",
    "- <a href='#4'>4. The consequences of our model</a>\n",
    "    - <a href='#4.1'>4.1. Feature Importance</a>\n",
    "    - <a href='#4.2'>4.2. Unconfusing confusion matrices</a>\n",
    "    - <a href='#4.3'>4.3. Campaigning the model</a>\n",
    "    - <a href='#4.4'>4.4. Customer Lifetime Value</a>\n",
    "- <a href='#5'>5. Conclusions</a>"
   ]
  },
  {
   "cell_type": "code",
   "execution_count": 1,
   "metadata": {},
   "outputs": [],
   "source": [
    "%matplotlib inline\n",
    "import pandas as pd\n",
    "import numpy as np\n",
    "import itertools\n",
    "import matplotlib.pyplot as plt\n",
    "from sklearn.preprocessing import LabelBinarizer, LabelEncoder\n",
    "from sklearn.model_selection import train_test_split\n",
    "import lightgbm as lgbm\n",
    "from sklearn.metrics import auc, f1_score, roc_auc_score, roc_curve, confusion_matrix, accuracy_score, precision_score\n",
    "import seaborn as sns\n",
    "import time\n",
    "pd.set_option('display.max_rows', 90)\n",
    "pd.set_option('display.max_columns', 200)\n",
    "pd.set_option('display.width', 1000)"
   ]
  },
  {
   "cell_type": "markdown",
   "metadata": {},
   "source": [
    "### <a id='1'>1. EDA</a>"
   ]
  },
  {
   "cell_type": "code",
   "execution_count": 2,
   "metadata": {},
   "outputs": [],
   "source": [
    "in_file = 'data\\cell2celltrain.csv'"
   ]
  },
  {
   "cell_type": "markdown",
   "metadata": {},
   "source": [
    "### <a id='1.1'>1.1. Exploratory data analysis</a>"
   ]
  },
  {
   "cell_type": "code",
   "execution_count": 3,
   "metadata": {},
   "outputs": [],
   "source": [
    "df = pd.read_csv(in_file)"
   ]
  },
  {
   "cell_type": "code",
   "execution_count": 4,
   "metadata": {},
   "outputs": [
    {
     "data": {
      "text/html": [
       "<div>\n",
       "<style scoped>\n",
       "    .dataframe tbody tr th:only-of-type {\n",
       "        vertical-align: middle;\n",
       "    }\n",
       "\n",
       "    .dataframe tbody tr th {\n",
       "        vertical-align: top;\n",
       "    }\n",
       "\n",
       "    .dataframe thead th {\n",
       "        text-align: right;\n",
       "    }\n",
       "</style>\n",
       "<table border=\"1\" class=\"dataframe\">\n",
       "  <thead>\n",
       "    <tr style=\"text-align: right;\">\n",
       "      <th></th>\n",
       "      <th>CustomerID</th>\n",
       "      <th>Churn</th>\n",
       "      <th>MonthlyRevenue</th>\n",
       "      <th>MonthlyMinutes</th>\n",
       "      <th>TotalRecurringCharge</th>\n",
       "      <th>DirectorAssistedCalls</th>\n",
       "      <th>OverageMinutes</th>\n",
       "      <th>RoamingCalls</th>\n",
       "      <th>PercChangeMinutes</th>\n",
       "      <th>PercChangeRevenues</th>\n",
       "      <th>DroppedCalls</th>\n",
       "      <th>BlockedCalls</th>\n",
       "      <th>UnansweredCalls</th>\n",
       "      <th>CustomerCareCalls</th>\n",
       "      <th>ThreewayCalls</th>\n",
       "      <th>ReceivedCalls</th>\n",
       "      <th>OutboundCalls</th>\n",
       "      <th>InboundCalls</th>\n",
       "      <th>PeakCallsInOut</th>\n",
       "      <th>OffPeakCallsInOut</th>\n",
       "      <th>DroppedBlockedCalls</th>\n",
       "      <th>CallForwardingCalls</th>\n",
       "      <th>CallWaitingCalls</th>\n",
       "      <th>MonthsInService</th>\n",
       "      <th>UniqueSubs</th>\n",
       "      <th>ActiveSubs</th>\n",
       "      <th>ServiceArea</th>\n",
       "      <th>Handsets</th>\n",
       "      <th>HandsetModels</th>\n",
       "      <th>CurrentEquipmentDays</th>\n",
       "      <th>AgeHH1</th>\n",
       "      <th>AgeHH2</th>\n",
       "      <th>ChildrenInHH</th>\n",
       "      <th>HandsetRefurbished</th>\n",
       "      <th>HandsetWebCapable</th>\n",
       "      <th>TruckOwner</th>\n",
       "      <th>RVOwner</th>\n",
       "      <th>Homeownership</th>\n",
       "      <th>BuysViaMailOrder</th>\n",
       "      <th>RespondsToMailOffers</th>\n",
       "      <th>OptOutMailings</th>\n",
       "      <th>NonUSTravel</th>\n",
       "      <th>OwnsComputer</th>\n",
       "      <th>HasCreditCard</th>\n",
       "      <th>RetentionCalls</th>\n",
       "      <th>RetentionOffersAccepted</th>\n",
       "      <th>NewCellphoneUser</th>\n",
       "      <th>NotNewCellphoneUser</th>\n",
       "      <th>ReferralsMadeBySubscriber</th>\n",
       "      <th>IncomeGroup</th>\n",
       "      <th>OwnsMotorcycle</th>\n",
       "      <th>AdjustmentsToCreditRating</th>\n",
       "      <th>HandsetPrice</th>\n",
       "      <th>MadeCallToRetentionTeam</th>\n",
       "      <th>CreditRating</th>\n",
       "      <th>PrizmCode</th>\n",
       "      <th>Occupation</th>\n",
       "      <th>MaritalStatus</th>\n",
       "    </tr>\n",
       "  </thead>\n",
       "  <tbody>\n",
       "    <tr>\n",
       "      <td>0</td>\n",
       "      <td>3000002</td>\n",
       "      <td>Yes</td>\n",
       "      <td>24.00</td>\n",
       "      <td>219.0</td>\n",
       "      <td>22.0</td>\n",
       "      <td>0.25</td>\n",
       "      <td>0.0</td>\n",
       "      <td>0.0</td>\n",
       "      <td>-157.0</td>\n",
       "      <td>-19.0</td>\n",
       "      <td>0.7</td>\n",
       "      <td>0.7</td>\n",
       "      <td>6.3</td>\n",
       "      <td>0.0</td>\n",
       "      <td>0.0</td>\n",
       "      <td>97.2</td>\n",
       "      <td>0.0</td>\n",
       "      <td>0.0</td>\n",
       "      <td>58.0</td>\n",
       "      <td>24.0</td>\n",
       "      <td>1.3</td>\n",
       "      <td>0.0</td>\n",
       "      <td>0.3</td>\n",
       "      <td>61</td>\n",
       "      <td>2</td>\n",
       "      <td>1</td>\n",
       "      <td>SEAPOR503</td>\n",
       "      <td>2.0</td>\n",
       "      <td>2.0</td>\n",
       "      <td>361.0</td>\n",
       "      <td>62.0</td>\n",
       "      <td>0.0</td>\n",
       "      <td>No</td>\n",
       "      <td>No</td>\n",
       "      <td>Yes</td>\n",
       "      <td>No</td>\n",
       "      <td>No</td>\n",
       "      <td>Known</td>\n",
       "      <td>Yes</td>\n",
       "      <td>Yes</td>\n",
       "      <td>No</td>\n",
       "      <td>No</td>\n",
       "      <td>Yes</td>\n",
       "      <td>Yes</td>\n",
       "      <td>1</td>\n",
       "      <td>0</td>\n",
       "      <td>No</td>\n",
       "      <td>No</td>\n",
       "      <td>0</td>\n",
       "      <td>4</td>\n",
       "      <td>No</td>\n",
       "      <td>0</td>\n",
       "      <td>30</td>\n",
       "      <td>Yes</td>\n",
       "      <td>1-Highest</td>\n",
       "      <td>Suburban</td>\n",
       "      <td>Professional</td>\n",
       "      <td>No</td>\n",
       "    </tr>\n",
       "    <tr>\n",
       "      <td>1</td>\n",
       "      <td>3000010</td>\n",
       "      <td>Yes</td>\n",
       "      <td>16.99</td>\n",
       "      <td>10.0</td>\n",
       "      <td>17.0</td>\n",
       "      <td>0.00</td>\n",
       "      <td>0.0</td>\n",
       "      <td>0.0</td>\n",
       "      <td>-4.0</td>\n",
       "      <td>0.0</td>\n",
       "      <td>0.3</td>\n",
       "      <td>0.0</td>\n",
       "      <td>2.7</td>\n",
       "      <td>0.0</td>\n",
       "      <td>0.0</td>\n",
       "      <td>0.0</td>\n",
       "      <td>0.0</td>\n",
       "      <td>0.0</td>\n",
       "      <td>5.0</td>\n",
       "      <td>1.0</td>\n",
       "      <td>0.3</td>\n",
       "      <td>0.0</td>\n",
       "      <td>0.0</td>\n",
       "      <td>58</td>\n",
       "      <td>1</td>\n",
       "      <td>1</td>\n",
       "      <td>PITHOM412</td>\n",
       "      <td>2.0</td>\n",
       "      <td>1.0</td>\n",
       "      <td>1504.0</td>\n",
       "      <td>40.0</td>\n",
       "      <td>42.0</td>\n",
       "      <td>Yes</td>\n",
       "      <td>No</td>\n",
       "      <td>No</td>\n",
       "      <td>No</td>\n",
       "      <td>No</td>\n",
       "      <td>Known</td>\n",
       "      <td>Yes</td>\n",
       "      <td>Yes</td>\n",
       "      <td>No</td>\n",
       "      <td>No</td>\n",
       "      <td>Yes</td>\n",
       "      <td>Yes</td>\n",
       "      <td>0</td>\n",
       "      <td>0</td>\n",
       "      <td>Yes</td>\n",
       "      <td>No</td>\n",
       "      <td>0</td>\n",
       "      <td>5</td>\n",
       "      <td>No</td>\n",
       "      <td>0</td>\n",
       "      <td>30</td>\n",
       "      <td>No</td>\n",
       "      <td>4-Medium</td>\n",
       "      <td>Suburban</td>\n",
       "      <td>Professional</td>\n",
       "      <td>Yes</td>\n",
       "    </tr>\n",
       "    <tr>\n",
       "      <td>2</td>\n",
       "      <td>3000014</td>\n",
       "      <td>No</td>\n",
       "      <td>38.00</td>\n",
       "      <td>8.0</td>\n",
       "      <td>38.0</td>\n",
       "      <td>0.00</td>\n",
       "      <td>0.0</td>\n",
       "      <td>0.0</td>\n",
       "      <td>-2.0</td>\n",
       "      <td>0.0</td>\n",
       "      <td>0.0</td>\n",
       "      <td>0.0</td>\n",
       "      <td>0.0</td>\n",
       "      <td>0.0</td>\n",
       "      <td>0.0</td>\n",
       "      <td>0.4</td>\n",
       "      <td>0.3</td>\n",
       "      <td>0.0</td>\n",
       "      <td>1.3</td>\n",
       "      <td>3.7</td>\n",
       "      <td>0.0</td>\n",
       "      <td>0.0</td>\n",
       "      <td>0.0</td>\n",
       "      <td>60</td>\n",
       "      <td>1</td>\n",
       "      <td>1</td>\n",
       "      <td>MILMIL414</td>\n",
       "      <td>1.0</td>\n",
       "      <td>1.0</td>\n",
       "      <td>1812.0</td>\n",
       "      <td>26.0</td>\n",
       "      <td>26.0</td>\n",
       "      <td>Yes</td>\n",
       "      <td>No</td>\n",
       "      <td>No</td>\n",
       "      <td>No</td>\n",
       "      <td>No</td>\n",
       "      <td>Unknown</td>\n",
       "      <td>No</td>\n",
       "      <td>No</td>\n",
       "      <td>No</td>\n",
       "      <td>No</td>\n",
       "      <td>No</td>\n",
       "      <td>Yes</td>\n",
       "      <td>0</td>\n",
       "      <td>0</td>\n",
       "      <td>Yes</td>\n",
       "      <td>No</td>\n",
       "      <td>0</td>\n",
       "      <td>6</td>\n",
       "      <td>No</td>\n",
       "      <td>0</td>\n",
       "      <td>Unknown</td>\n",
       "      <td>No</td>\n",
       "      <td>3-Good</td>\n",
       "      <td>Town</td>\n",
       "      <td>Crafts</td>\n",
       "      <td>Yes</td>\n",
       "    </tr>\n",
       "    <tr>\n",
       "      <td>3</td>\n",
       "      <td>3000022</td>\n",
       "      <td>No</td>\n",
       "      <td>82.28</td>\n",
       "      <td>1312.0</td>\n",
       "      <td>75.0</td>\n",
       "      <td>1.24</td>\n",
       "      <td>0.0</td>\n",
       "      <td>0.0</td>\n",
       "      <td>157.0</td>\n",
       "      <td>8.1</td>\n",
       "      <td>52.0</td>\n",
       "      <td>7.7</td>\n",
       "      <td>76.0</td>\n",
       "      <td>4.3</td>\n",
       "      <td>1.3</td>\n",
       "      <td>200.3</td>\n",
       "      <td>370.3</td>\n",
       "      <td>147.0</td>\n",
       "      <td>555.7</td>\n",
       "      <td>303.7</td>\n",
       "      <td>59.7</td>\n",
       "      <td>0.0</td>\n",
       "      <td>22.7</td>\n",
       "      <td>59</td>\n",
       "      <td>2</td>\n",
       "      <td>2</td>\n",
       "      <td>PITHOM412</td>\n",
       "      <td>9.0</td>\n",
       "      <td>4.0</td>\n",
       "      <td>458.0</td>\n",
       "      <td>30.0</td>\n",
       "      <td>0.0</td>\n",
       "      <td>No</td>\n",
       "      <td>No</td>\n",
       "      <td>Yes</td>\n",
       "      <td>No</td>\n",
       "      <td>No</td>\n",
       "      <td>Known</td>\n",
       "      <td>Yes</td>\n",
       "      <td>Yes</td>\n",
       "      <td>No</td>\n",
       "      <td>No</td>\n",
       "      <td>No</td>\n",
       "      <td>Yes</td>\n",
       "      <td>0</td>\n",
       "      <td>0</td>\n",
       "      <td>Yes</td>\n",
       "      <td>No</td>\n",
       "      <td>0</td>\n",
       "      <td>6</td>\n",
       "      <td>No</td>\n",
       "      <td>0</td>\n",
       "      <td>10</td>\n",
       "      <td>No</td>\n",
       "      <td>4-Medium</td>\n",
       "      <td>Other</td>\n",
       "      <td>Other</td>\n",
       "      <td>No</td>\n",
       "    </tr>\n",
       "    <tr>\n",
       "      <td>4</td>\n",
       "      <td>3000026</td>\n",
       "      <td>Yes</td>\n",
       "      <td>17.14</td>\n",
       "      <td>0.0</td>\n",
       "      <td>17.0</td>\n",
       "      <td>0.00</td>\n",
       "      <td>0.0</td>\n",
       "      <td>0.0</td>\n",
       "      <td>0.0</td>\n",
       "      <td>-0.2</td>\n",
       "      <td>0.0</td>\n",
       "      <td>0.0</td>\n",
       "      <td>0.0</td>\n",
       "      <td>0.0</td>\n",
       "      <td>0.0</td>\n",
       "      <td>0.0</td>\n",
       "      <td>0.0</td>\n",
       "      <td>0.0</td>\n",
       "      <td>0.0</td>\n",
       "      <td>0.0</td>\n",
       "      <td>0.0</td>\n",
       "      <td>0.0</td>\n",
       "      <td>0.0</td>\n",
       "      <td>53</td>\n",
       "      <td>2</td>\n",
       "      <td>2</td>\n",
       "      <td>OKCTUL918</td>\n",
       "      <td>4.0</td>\n",
       "      <td>3.0</td>\n",
       "      <td>852.0</td>\n",
       "      <td>46.0</td>\n",
       "      <td>54.0</td>\n",
       "      <td>No</td>\n",
       "      <td>No</td>\n",
       "      <td>No</td>\n",
       "      <td>No</td>\n",
       "      <td>No</td>\n",
       "      <td>Known</td>\n",
       "      <td>Yes</td>\n",
       "      <td>Yes</td>\n",
       "      <td>No</td>\n",
       "      <td>No</td>\n",
       "      <td>Yes</td>\n",
       "      <td>Yes</td>\n",
       "      <td>0</td>\n",
       "      <td>0</td>\n",
       "      <td>No</td>\n",
       "      <td>Yes</td>\n",
       "      <td>0</td>\n",
       "      <td>9</td>\n",
       "      <td>No</td>\n",
       "      <td>1</td>\n",
       "      <td>10</td>\n",
       "      <td>No</td>\n",
       "      <td>1-Highest</td>\n",
       "      <td>Other</td>\n",
       "      <td>Professional</td>\n",
       "      <td>Yes</td>\n",
       "    </tr>\n",
       "  </tbody>\n",
       "</table>\n",
       "</div>"
      ],
      "text/plain": [
       "   CustomerID Churn  MonthlyRevenue  MonthlyMinutes  TotalRecurringCharge  DirectorAssistedCalls  OverageMinutes  RoamingCalls  PercChangeMinutes  PercChangeRevenues  DroppedCalls  BlockedCalls  UnansweredCalls  CustomerCareCalls  ThreewayCalls  ReceivedCalls  OutboundCalls  InboundCalls  PeakCallsInOut  OffPeakCallsInOut  DroppedBlockedCalls  CallForwardingCalls  CallWaitingCalls  MonthsInService  UniqueSubs  ActiveSubs ServiceArea  Handsets  HandsetModels  CurrentEquipmentDays  AgeHH1  AgeHH2 ChildrenInHH HandsetRefurbished HandsetWebCapable TruckOwner RVOwner Homeownership BuysViaMailOrder RespondsToMailOffers OptOutMailings NonUSTravel OwnsComputer HasCreditCard  RetentionCalls  RetentionOffersAccepted NewCellphoneUser NotNewCellphoneUser  ReferralsMadeBySubscriber  IncomeGroup OwnsMotorcycle  AdjustmentsToCreditRating HandsetPrice MadeCallToRetentionTeam CreditRating PrizmCode    Occupation MaritalStatus\n",
       "0     3000002   Yes           24.00           219.0                  22.0                   0.25             0.0           0.0             -157.0               -19.0           0.7           0.7              6.3                0.0            0.0           97.2            0.0           0.0            58.0               24.0                  1.3                  0.0               0.3               61           2           1   SEAPOR503       2.0            2.0                 361.0    62.0     0.0           No                 No               Yes         No      No         Known              Yes                  Yes             No          No          Yes           Yes               1                        0               No                  No                          0            4             No                          0           30                     Yes    1-Highest  Suburban  Professional            No\n",
       "1     3000010   Yes           16.99            10.0                  17.0                   0.00             0.0           0.0               -4.0                 0.0           0.3           0.0              2.7                0.0            0.0            0.0            0.0           0.0             5.0                1.0                  0.3                  0.0               0.0               58           1           1   PITHOM412       2.0            1.0                1504.0    40.0    42.0          Yes                 No                No         No      No         Known              Yes                  Yes             No          No          Yes           Yes               0                        0              Yes                  No                          0            5             No                          0           30                      No     4-Medium  Suburban  Professional           Yes\n",
       "2     3000014    No           38.00             8.0                  38.0                   0.00             0.0           0.0               -2.0                 0.0           0.0           0.0              0.0                0.0            0.0            0.4            0.3           0.0             1.3                3.7                  0.0                  0.0               0.0               60           1           1   MILMIL414       1.0            1.0                1812.0    26.0    26.0          Yes                 No                No         No      No       Unknown               No                   No             No          No           No           Yes               0                        0              Yes                  No                          0            6             No                          0      Unknown                      No       3-Good      Town        Crafts           Yes\n",
       "3     3000022    No           82.28          1312.0                  75.0                   1.24             0.0           0.0              157.0                 8.1          52.0           7.7             76.0                4.3            1.3          200.3          370.3         147.0           555.7              303.7                 59.7                  0.0              22.7               59           2           2   PITHOM412       9.0            4.0                 458.0    30.0     0.0           No                 No               Yes         No      No         Known              Yes                  Yes             No          No           No           Yes               0                        0              Yes                  No                          0            6             No                          0           10                      No     4-Medium     Other         Other            No\n",
       "4     3000026   Yes           17.14             0.0                  17.0                   0.00             0.0           0.0                0.0                -0.2           0.0           0.0              0.0                0.0            0.0            0.0            0.0           0.0             0.0                0.0                  0.0                  0.0               0.0               53           2           2   OKCTUL918       4.0            3.0                 852.0    46.0    54.0           No                 No                No         No      No         Known              Yes                  Yes             No          No          Yes           Yes               0                        0               No                 Yes                          0            9             No                          1           10                      No    1-Highest     Other  Professional           Yes"
      ]
     },
     "execution_count": 4,
     "metadata": {},
     "output_type": "execute_result"
    }
   ],
   "source": [
    "df.head()"
   ]
  },
  {
   "cell_type": "code",
   "execution_count": 5,
   "metadata": {},
   "outputs": [
    {
     "data": {
      "text/plain": [
       "(51047, 58)"
      ]
     },
     "execution_count": 5,
     "metadata": {},
     "output_type": "execute_result"
    }
   ],
   "source": [
    "df.shape"
   ]
  },
  {
   "cell_type": "markdown",
   "metadata": {},
   "source": [
    "### Class sizes"
   ]
  },
  {
   "cell_type": "code",
   "execution_count": 6,
   "metadata": {},
   "outputs": [
    {
     "data": {
      "text/plain": [
       "No     36336\n",
       "Yes    14711\n",
       "Name: Churn, dtype: int64"
      ]
     },
     "execution_count": 6,
     "metadata": {},
     "output_type": "execute_result"
    }
   ],
   "source": [
    "df.Churn.value_counts()"
   ]
  },
  {
   "cell_type": "markdown",
   "metadata": {},
   "source": [
    "### Ratios\n",
    "We take a note of class imbalance"
   ]
  },
  {
   "cell_type": "code",
   "execution_count": 7,
   "metadata": {},
   "outputs": [
    {
     "data": {
      "text/plain": [
       "No     0.711815\n",
       "Yes    0.288185\n",
       "Name: Churn, dtype: float64"
      ]
     },
     "execution_count": 7,
     "metadata": {},
     "output_type": "execute_result"
    }
   ],
   "source": [
    "df.Churn.value_counts()/df.shape[0]"
   ]
  },
  {
   "cell_type": "markdown",
   "metadata": {},
   "source": [
    "### <a id='1.2'>1.2. Missing Values exploration</a>"
   ]
  },
  {
   "cell_type": "markdown",
   "metadata": {},
   "source": [
    "### The usual suspects missing values check"
   ]
  },
  {
   "cell_type": "code",
   "execution_count": 8,
   "metadata": {},
   "outputs": [
    {
     "data": {
      "text/plain": [
       "3515"
      ]
     },
     "execution_count": 8,
     "metadata": {},
     "output_type": "execute_result"
    }
   ],
   "source": [
    "# number of missing values in dataset\n",
    "df.isnull().sum().values.sum()"
   ]
  },
  {
   "cell_type": "markdown",
   "metadata": {},
   "source": [
    "### Boom! We have missing vals but why? Let's roll up sleeves and check.\n",
    "#### Despite number of techniques available, we will use common sense most of all, to determine whether or not missing value is there for a reason or missing at random"
   ]
  },
  {
   "cell_type": "code",
   "execution_count": 9,
   "metadata": {},
   "outputs": [
    {
     "name": "stdout",
     "output_type": "stream",
     "text": [
      "MonthlyRevenue 156\n",
      "MonthlyMinutes 156\n",
      "TotalRecurringCharge 156\n",
      "DirectorAssistedCalls 156\n",
      "OverageMinutes 156\n",
      "RoamingCalls 156\n",
      "PercChangeMinutes 367\n",
      "PercChangeRevenues 367\n",
      "ServiceArea 24\n",
      "Handsets 1\n",
      "HandsetModels 1\n",
      "CurrentEquipmentDays 1\n",
      "AgeHH1 909\n",
      "AgeHH2 909\n"
     ]
    }
   ],
   "source": [
    "missing = list()\n",
    "for x in df.columns:\n",
    "    if df[x].isnull().sum() != 0:\n",
    "        print(x, df[x].isnull().sum())\n",
    "        missing.append(x)"
   ]
  },
  {
   "cell_type": "markdown",
   "metadata": {},
   "source": [
    "#### From above list we can remove straight away: MonthlyRevenue, MonthlyMinutes, TotalRecurringCharge, RoamingCalls, PercChangeMinutes, PercChangeRevenues, Handsets, HandsetModels, CurrentEquipmentDays, OverageMinutes.\n",
    "#### As, above features simply could have zero value or be not present at all. We'll set them to zero 'safely'. We'll investigate the remaining lot!"
   ]
  },
  {
   "cell_type": "code",
   "execution_count": 10,
   "metadata": {},
   "outputs": [
    {
     "data": {
      "text/plain": [
       "count    50891.000000\n",
       "mean         0.895229\n",
       "std          2.228546\n",
       "min          0.000000\n",
       "25%          0.000000\n",
       "50%          0.250000\n",
       "75%          0.990000\n",
       "max        159.390000\n",
       "Name: DirectorAssistedCalls, dtype: float64"
      ]
     },
     "execution_count": 10,
     "metadata": {},
     "output_type": "execute_result"
    }
   ],
   "source": [
    "# First of, what on earthe is this feature name? is the Director assisting calls?\n",
    "df.DirectorAssistedCalls.describe()"
   ]
  },
  {
   "cell_type": "markdown",
   "metadata": {},
   "source": [
    "#### Stats are showing that the most values are zero, so this could be calls to call centre, where customer said \n",
    "### 'I want to speak to your MANAGER!'"
   ]
  },
  {
   "cell_type": "code",
   "execution_count": 11,
   "metadata": {},
   "outputs": [
    {
     "data": {
      "text/plain": [
       "(-8.26288580685301, 25)"
      ]
     },
     "execution_count": 11,
     "metadata": {},
     "output_type": "execute_result"
    },
    {
     "data": {
      "image/png": "[encoded data removed]",
      "text/plain": [
       "<Figure size 504x504 with 1 Axes>"
      ]
     },
     "metadata": {
      "needs_background": "light"
     },
     "output_type": "display_data"
    }
   ],
   "source": [
    "plt.figure(figsize=(7,7))\n",
    "plt.grid(True)\n",
    "sns.distplot(df.DirectorAssistedCalls.fillna(0))\n",
    "plt.xlim(right=25)"
   ]
  },
  {
   "cell_type": "markdown",
   "metadata": {},
   "source": [
    "does it have an impact on churn?"
   ]
  },
  {
   "cell_type": "code",
   "execution_count": 12,
   "metadata": {},
   "outputs": [
    {
     "data": {
      "text/plain": [
       "No     19120\n",
       "Yes     7415\n",
       "Name: Churn, dtype: int64"
      ]
     },
     "execution_count": 12,
     "metadata": {},
     "output_type": "execute_result"
    }
   ],
   "source": [
    "df.Churn[df.DirectorAssistedCalls != 0].value_counts()"
   ]
  },
  {
   "cell_type": "markdown",
   "metadata": {},
   "source": [
    "... hmmmm interesting, recall from above that our churn population in data set is 14711, and with this feature we're capturing a lot of churners. However, way more non-churnes to be fair."
   ]
  },
  {
   "cell_type": "code",
   "execution_count": 13,
   "metadata": {},
   "outputs": [
    {
     "data": {
      "text/plain": [
       "No     0.374557\n",
       "Yes    0.145258\n",
       "Name: Churn, dtype: float64"
      ]
     },
     "execution_count": 13,
     "metadata": {},
     "output_type": "execute_result"
    }
   ],
   "source": [
    "# ratios against all customer population\n",
    "df.Churn[df.DirectorAssistedCalls != 0].value_counts()/df.shape[0]"
   ]
  },
  {
   "cell_type": "markdown",
   "metadata": {},
   "source": [
    "### I think we can zero-out this feature"
   ]
  },
  {
   "cell_type": "markdown",
   "metadata": {},
   "source": [
    "### We've left with missing vals in Age let's look at stats first"
   ]
  },
  {
   "cell_type": "code",
   "execution_count": 14,
   "metadata": {},
   "outputs": [
    {
     "data": {
      "text/plain": [
       "count    50138.000000\n",
       "mean        31.338127\n",
       "std         22.094635\n",
       "min          0.000000\n",
       "25%          0.000000\n",
       "50%         36.000000\n",
       "75%         48.000000\n",
       "max         99.000000\n",
       "Name: AgeHH1, dtype: float64"
      ]
     },
     "execution_count": 14,
     "metadata": {},
     "output_type": "execute_result"
    }
   ],
   "source": [
    "df.AgeHH1.describe()"
   ]
  },
  {
   "cell_type": "code",
   "execution_count": 15,
   "metadata": {},
   "outputs": [
    {
     "data": {
      "text/plain": [
       "count    50138.000000\n",
       "mean        21.144142\n",
       "std         23.931368\n",
       "min          0.000000\n",
       "25%          0.000000\n",
       "50%          0.000000\n",
       "75%         42.000000\n",
       "max         99.000000\n",
       "Name: AgeHH2, dtype: float64"
      ]
     },
     "execution_count": 15,
     "metadata": {},
     "output_type": "execute_result"
    }
   ],
   "source": [
    "df.AgeHH2.describe()"
   ]
  },
  {
   "cell_type": "markdown",
   "metadata": {},
   "source": [
    "### How many records are impacted by 0 age\n",
    "This could be due to many reasons:\n",
    "> customers given option not to report age\n",
    "\n",
    "> 'Clerical' error\n",
    "\n",
    "> recent change in system\n",
    "\n",
    "> ETL process crashed\n"
   ]
  },
  {
   "cell_type": "code",
   "execution_count": 16,
   "metadata": {},
   "outputs": [
    {
     "data": {
      "text/plain": [
       "No     10371\n",
       "Yes     4455\n",
       "Name: Churn, dtype: int64"
      ]
     },
     "execution_count": 16,
     "metadata": {},
     "output_type": "execute_result"
    }
   ],
   "source": [
    "df.Churn[(df.AgeHH1.fillna(0) == 0)&(df.AgeHH2.fillna(0) == 0)].value_counts()"
   ]
  },
  {
   "cell_type": "markdown",
   "metadata": {},
   "source": [
    "### Some missing values conclusions.\n",
    "In my opinion is safe to 0 substitute all missing variables in this data set.\n",
    "As we showing above, there could be some data missing at random, however vast majority is due to the processes like data gathering, data entering, choice for customer that results in missing information."
   ]
  },
  {
   "cell_type": "code",
   "execution_count": 17,
   "metadata": {},
   "outputs": [],
   "source": [
    "df = df.fillna(0)"
   ]
  },
  {
   "cell_type": "markdown",
   "metadata": {},
   "source": [
    "### <a id='1.3'>1.3. Churn breakdown</a>"
   ]
  },
  {
   "cell_type": "markdown",
   "metadata": {},
   "source": [
    "## Let's take a look at churn and how it's reflected in some of the features"
   ]
  },
  {
   "cell_type": "code",
   "execution_count": 18,
   "metadata": {},
   "outputs": [],
   "source": [
    "#get a list of categoricals\n",
    "categoricals = list()\n",
    "for x in df.columns:\n",
    "    if df[x].dtype == 'object':\n",
    "        categoricals.append(x)"
   ]
  },
  {
   "cell_type": "code",
   "execution_count": 19,
   "metadata": {},
   "outputs": [
    {
     "data": {
      "text/plain": [
       "Churn                        2\n",
       "ServiceArea                748\n",
       "ChildrenInHH                 2\n",
       "HandsetRefurbished           2\n",
       "HandsetWebCapable            2\n",
       "TruckOwner                   2\n",
       "RVOwner                      2\n",
       "Homeownership                2\n",
       "BuysViaMailOrder             2\n",
       "RespondsToMailOffers         2\n",
       "OptOutMailings               2\n",
       "NonUSTravel                  2\n",
       "OwnsComputer                 2\n",
       "HasCreditCard                2\n",
       "NewCellphoneUser             2\n",
       "NotNewCellphoneUser          2\n",
       "OwnsMotorcycle               2\n",
       "HandsetPrice                16\n",
       "MadeCallToRetentionTeam      2\n",
       "CreditRating                 7\n",
       "PrizmCode                    4\n",
       "Occupation                   8\n",
       "MaritalStatus                3\n",
       "dtype: int64"
      ]
     },
     "execution_count": 19,
     "metadata": {},
     "output_type": "execute_result"
    }
   ],
   "source": [
    "df[categoricals].nunique()"
   ]
  },
  {
   "cell_type": "markdown",
   "metadata": {},
   "source": [
    "### Most of categoricals are binary so let's see how the churn is reflected in some other variables"
   ]
  },
  {
   "cell_type": "code",
   "execution_count": 20,
   "metadata": {},
   "outputs": [],
   "source": [
    "def plot_val_counts(df, col=''):\n",
    "    plt.figure(figsize=(5,5))\n",
    "    plt.grid(True)\n",
    "    plt.bar(df[col][df.Churn=='Yes'].value_counts().index, \n",
    "            df[col][df.Churn=='Yes'].value_counts().values)\n",
    "    plt.title(f'{col}')\n",
    "    plt.xticks(rotation=-90)"
   ]
  },
  {
   "cell_type": "code",
   "execution_count": 21,
   "metadata": {},
   "outputs": [
    {
     "data": {
      "image/png": "[encoded data removed]",
      "text/plain": [
       "<Figure size 360x360 with 1 Axes>"
      ]
     },
     "metadata": {
      "needs_background": "light"
     },
     "output_type": "display_data"
    }
   ],
   "source": [
    "plot_val_counts(df, col='HandsetPrice')"
   ]
  },
  {
   "cell_type": "code",
   "execution_count": 22,
   "metadata": {},
   "outputs": [
    {
     "data": {
      "image/png": "[encoded data removed]",
      "text/plain": [
       "<Figure size 360x360 with 1 Axes>"
      ]
     },
     "metadata": {
      "needs_background": "light"
     },
     "output_type": "display_data"
    }
   ],
   "source": [
    "plot_val_counts(df, col='CreditRating')"
   ]
  },
  {
   "cell_type": "code",
   "execution_count": 23,
   "metadata": {},
   "outputs": [
    {
     "data": {
      "image/png": "[encoded data removed]",
      "text/plain": [
       "<Figure size 360x360 with 1 Axes>"
      ]
     },
     "metadata": {
      "needs_background": "light"
     },
     "output_type": "display_data"
    }
   ],
   "source": [
    "plot_val_counts(df, col='Occupation')"
   ]
  },
  {
   "cell_type": "code",
   "execution_count": 24,
   "metadata": {},
   "outputs": [
    {
     "data": {
      "image/png": "[encoded data removed]",
      "text/plain": [
       "<Figure size 360x360 with 1 Axes>"
      ]
     },
     "metadata": {
      "needs_background": "light"
     },
     "output_type": "display_data"
    }
   ],
   "source": [
    "plot_val_counts(df, col='PrizmCode')"
   ]
  },
  {
   "cell_type": "markdown",
   "metadata": {},
   "source": [
    "### <a id='1.4'>1.4. Data distributions</a>\n",
    "### Data distributions"
   ]
  },
  {
   "cell_type": "code",
   "execution_count": 25,
   "metadata": {},
   "outputs": [],
   "source": [
    "def plot_distro(df, col = '', y_limit=None, x_limit_r=None, x_limit_l = None):\n",
    "    plt.figure(figsize=(10,10))\n",
    "    plt.grid(True)\n",
    "    sns.distplot(df[col][df.Churn == 'Yes'])\n",
    "    sns.distplot(df[col][df.Churn == 'No'])\n",
    "    plt.legend(['churn_flag_yes', 'churn_flag_no'])\n",
    "    if y_limit:\n",
    "        plt.ylim(top=y_limit)\n",
    "    if x_limit_r:\n",
    "        plt.xlim(right=x_limit_r)\n",
    "    if x_limit_l:\n",
    "        plt.xlim(left=x_limit_l)"
   ]
  },
  {
   "cell_type": "code",
   "execution_count": 26,
   "metadata": {},
   "outputs": [
    {
     "data": {
      "image/png": "[encoded data removed]",
      "text/plain": [
       "<Figure size 720x720 with 1 Axes>"
      ]
     },
     "metadata": {
      "needs_background": "light"
     },
     "output_type": "display_data"
    }
   ],
   "source": [
    "plot_distro(df, col='PercChangeMinutes', x_limit_r=1200, x_limit_l=-1200)"
   ]
  },
  {
   "cell_type": "code",
   "execution_count": 27,
   "metadata": {},
   "outputs": [
    {
     "data": {
      "image/png": "[encoded data removed]",
      "text/plain": [
       "<Figure size 720x720 with 1 Axes>"
      ]
     },
     "metadata": {
      "needs_background": "light"
     },
     "output_type": "display_data"
    }
   ],
   "source": [
    "plot_distro(df, col='TotalRecurringCharge', x_limit_r=180)"
   ]
  },
  {
   "cell_type": "code",
   "execution_count": 28,
   "metadata": {},
   "outputs": [
    {
     "data": {
      "image/png": "[encoded data removed]",
      "text/plain": [
       "<Figure size 720x720 with 1 Axes>"
      ]
     },
     "metadata": {
      "needs_background": "light"
     },
     "output_type": "display_data"
    }
   ],
   "source": [
    "plot_distro(df, col='DirectorAssistedCalls', y_limit=.3, x_limit_r=10)"
   ]
  },
  {
   "cell_type": "code",
   "execution_count": 29,
   "metadata": {},
   "outputs": [
    {
     "data": {
      "image/png": "[encoded data removed]",
      "text/plain": [
       "<Figure size 720x720 with 1 Axes>"
      ]
     },
     "metadata": {
      "needs_background": "light"
     },
     "output_type": "display_data"
    }
   ],
   "source": [
    "plot_distro(df, col='MonthlyRevenue', x_limit_r=200)"
   ]
  },
  {
   "cell_type": "code",
   "execution_count": 30,
   "metadata": {},
   "outputs": [
    {
     "data": {
      "text/plain": [
       "<matplotlib.axes._subplots.AxesSubplot at 0x1aa9d1beb00>"
      ]
     },
     "execution_count": 30,
     "metadata": {},
     "output_type": "execute_result"
    },
    {
     "data": {
      "image/png": "[encoded data removed]",
      "text/plain": [
       "<Figure size 720x720 with 1 Axes>"
      ]
     },
     "metadata": {
      "needs_background": "light"
     },
     "output_type": "display_data"
    }
   ],
   "source": [
    "plt.figure(figsize=(10,10))\n",
    "plt.grid(True)\n",
    "sns.boxplot(x=df.Occupation[df.Churn == 'Yes'], y=df.MonthlyRevenue[df.Churn == 'Yes'])\n",
    "#sns.boxplot(x=df.Occupation[df.Churn == 'No'], y=df.MonthlyRevenue[df.Churn == 'No'])"
   ]
  },
  {
   "cell_type": "markdown",
   "metadata": {},
   "source": [
    "### Not much of a difference visible from this perspective, let's zoom in"
   ]
  },
  {
   "cell_type": "code",
   "execution_count": 31,
   "metadata": {},
   "outputs": [
    {
     "data": {
      "text/plain": [
       "(-67.64750000000001, 100)"
      ]
     },
     "execution_count": 31,
     "metadata": {},
     "output_type": "execute_result"
    },
    {
     "data": {
      "image/png": "[encoded data removed]",
      "text/plain": [
       "<Figure size 720x720 with 1 Axes>"
      ]
     },
     "metadata": {
      "needs_background": "light"
     },
     "output_type": "display_data"
    }
   ],
   "source": [
    "plt.figure(figsize=(10,10))\n",
    "plt.grid(True)\n",
    "sns.boxplot(x=df.Occupation, y=df.MonthlyRevenue, hue=df.Churn)\n",
    "plt.ylim(top=100)"
   ]
  },
  {
   "cell_type": "code",
   "execution_count": 32,
   "metadata": {},
   "outputs": [
    {
     "data": {
      "text/plain": [
       "(-67.64750000000001, 150)"
      ]
     },
     "execution_count": 32,
     "metadata": {},
     "output_type": "execute_result"
    },
    {
     "data": {
      "image/png": "[encoded data removed]",
      "text/plain": [
       "<Figure size 720x720 with 1 Axes>"
      ]
     },
     "metadata": {
      "needs_background": "light"
     },
     "output_type": "display_data"
    }
   ],
   "source": [
    "plt.figure(figsize=(10,10))\n",
    "plt.grid(True)\n",
    "sns.boxplot(x=df.ChildrenInHH, y=df.MonthlyRevenue, hue=df.Churn)\n",
    "#sns.boxplot(x=df.ChildrenInHH[df.Churn == 'No'], y=df.MonthlyRevenue[df.Churn == 'No'])\n",
    "plt.ylim(top=150)"
   ]
  },
  {
   "cell_type": "markdown",
   "metadata": {},
   "source": [
    "### Let's note that differences are just subtle, there are no obvious relationships between Occupation and churn"
   ]
  },
  {
   "cell_type": "markdown",
   "metadata": {},
   "source": [
    "### Customer tenure and churn"
   ]
  },
  {
   "cell_type": "code",
   "execution_count": 33,
   "metadata": {},
   "outputs": [
    {
     "data": {
      "text/plain": [
       "count    51047.000000\n",
       "mean        18.756264\n",
       "std          9.800138\n",
       "min          6.000000\n",
       "25%         11.000000\n",
       "50%         16.000000\n",
       "75%         24.000000\n",
       "max         61.000000\n",
       "Name: MonthsInService, dtype: float64"
      ]
     },
     "execution_count": 33,
     "metadata": {},
     "output_type": "execute_result"
    }
   ],
   "source": [
    "df.MonthsInService.describe()"
   ]
  },
  {
   "cell_type": "code",
   "execution_count": 34,
   "metadata": {},
   "outputs": [],
   "source": [
    "tenure_churn = df.MonthsInService[df.Churn == 'Yes'].value_counts()\n",
    "tenure_no_churn = df.MonthsInService[df.Churn == 'No'].value_counts()"
   ]
  },
  {
   "cell_type": "code",
   "execution_count": 35,
   "metadata": {},
   "outputs": [],
   "source": [
    "tenure = pd.merge(tenure_churn.reset_index(), tenure_no_churn.reset_index(), on='index')"
   ]
  },
  {
   "cell_type": "code",
   "execution_count": 36,
   "metadata": {},
   "outputs": [],
   "source": [
    "tenure = tenure.sort_values(by='index')"
   ]
  },
  {
   "cell_type": "code",
   "execution_count": 37,
   "metadata": {},
   "outputs": [],
   "source": [
    "tenure = tenure.reset_index().drop(columns='level_0')"
   ]
  },
  {
   "cell_type": "code",
   "execution_count": 38,
   "metadata": {},
   "outputs": [
    {
     "data": {
      "text/plain": [
       "Index(['index', 'MonthsInService_x', 'MonthsInService_y'], dtype='object')"
      ]
     },
     "execution_count": 38,
     "metadata": {},
     "output_type": "execute_result"
    }
   ],
   "source": [
    "tenure.columns"
   ]
  },
  {
   "cell_type": "code",
   "execution_count": 39,
   "metadata": {},
   "outputs": [
    {
     "data": {
      "text/plain": [
       "Text(0.5, 1.0, 'When the churn picks')"
      ]
     },
     "execution_count": 39,
     "metadata": {},
     "output_type": "execute_result"
    },
    {
     "data": {
      "image/png": "[encoded data removed]",
      "text/plain": [
       "<Figure size 720x720 with 1 Axes>"
      ]
     },
     "metadata": {
      "needs_background": "light"
     },
     "output_type": "display_data"
    }
   ],
   "source": [
    "plt.figure(figsize=(10,10))\n",
    "plt.grid(True)\n",
    "sns.pointplot(x=tenure.index, y=tenure.MonthsInService_x, color='red')\n",
    "sns.pointplot(x=tenure.index, y=tenure.MonthsInService_y, color='green')\n",
    "plt.xticks(rotation=90)\n",
    "plt.title('When the churn picks')"
   ]
  },
  {
   "cell_type": "markdown",
   "metadata": {},
   "source": [
    "### <a id='2.1'>2.1. Feature preparation</a>"
   ]
  },
  {
   "cell_type": "markdown",
   "metadata": {},
   "source": [
    "### Let's look at type of features and how we could categorize them"
   ]
  },
  {
   "cell_type": "code",
   "execution_count": 40,
   "metadata": {},
   "outputs": [],
   "source": [
    "def get_lists_of_dtypes(df):\n",
    "    \"\"\"\n",
    "    Helper function to create list of features by type and by number of unique\n",
    "    values they consist of.\n",
    "    \"\"\"\n",
    "    strings = list()\n",
    "    integers = list()\n",
    "    floats = list()\n",
    "    # Checking for partial string match to append accordingly value type\n",
    "    # As here we might have different type of ints and floats\n",
    "    # Note that strings we're returning as dictionary, to have number of unique vals for each feature\n",
    "    for x in df.columns[2:]:\n",
    "        if str(df[x].dtype)[:3] in 'obj':\n",
    "            strings.append({x:len(df[x].unique())})\n",
    "        elif str(df[x].dtype)[:3] in 'int':\n",
    "            integers.append(x)\n",
    "        elif str(df[x].dtype)[:3] in 'flo':\n",
    "            floats.append(x)\n",
    "        else:\n",
    "            continue\n",
    "    return strings,integers, floats"
   ]
  },
  {
   "cell_type": "code",
   "execution_count": 41,
   "metadata": {},
   "outputs": [],
   "source": [
    "s, i, f = get_lists_of_dtypes(df)"
   ]
  },
  {
   "cell_type": "markdown",
   "metadata": {},
   "source": [
    "## Let's investigate strings and number of unique values\n",
    "### Below we can see that features with 2 unique values are already encoded\n",
    "### as binary type [0,1] - so we can leave them as they are\n",
    "### remaining features we will one hot encode including ServiceArea despite having 748 unique values\n",
    "### as this feature might have an impact on model, due to larger population density\n",
    "### therefore, might have higher/lower churn propensity"
   ]
  },
  {
   "cell_type": "code",
   "execution_count": 42,
   "metadata": {},
   "outputs": [
    {
     "data": {
      "text/plain": [
       "[{'ServiceArea': 748},\n",
       " {'ChildrenInHH': 2},\n",
       " {'HandsetRefurbished': 2},\n",
       " {'HandsetWebCapable': 2},\n",
       " {'TruckOwner': 2},\n",
       " {'RVOwner': 2},\n",
       " {'Homeownership': 2},\n",
       " {'BuysViaMailOrder': 2},\n",
       " {'RespondsToMailOffers': 2},\n",
       " {'OptOutMailings': 2},\n",
       " {'NonUSTravel': 2},\n",
       " {'OwnsComputer': 2},\n",
       " {'HasCreditCard': 2},\n",
       " {'NewCellphoneUser': 2},\n",
       " {'NotNewCellphoneUser': 2},\n",
       " {'OwnsMotorcycle': 2},\n",
       " {'HandsetPrice': 16},\n",
       " {'MadeCallToRetentionTeam': 2},\n",
       " {'CreditRating': 7},\n",
       " {'PrizmCode': 4},\n",
       " {'Occupation': 8},\n",
       " {'MaritalStatus': 3}]"
      ]
     },
     "execution_count": 42,
     "metadata": {},
     "output_type": "execute_result"
    }
   ],
   "source": [
    "s"
   ]
  },
  {
   "cell_type": "markdown",
   "metadata": {},
   "source": [
    "### <a id='2.1'>2.1. Feature engineering</a>"
   ]
  },
  {
   "cell_type": "code",
   "execution_count": 43,
   "metadata": {},
   "outputs": [],
   "source": [
    "def prep_categorical_features(s):\n",
    "    \"\"\"\n",
    "    helper function to return features that we want to one hot encode\n",
    "    \"\"\"\n",
    "    one_hot = list()\n",
    "    binary = list()\n",
    "    for x in s:\n",
    "        for k, v in x.items():\n",
    "            if v > 2:\n",
    "                one_hot.append(k)\n",
    "            else:\n",
    "                binary.append(k)\n",
    "    return one_hot, binary"
   ]
  },
  {
   "cell_type": "code",
   "execution_count": 44,
   "metadata": {},
   "outputs": [],
   "source": [
    "one_hot, binary = prep_categorical_features(s)"
   ]
  },
  {
   "cell_type": "markdown",
   "metadata": {},
   "source": [
    "### Prep numerical pairwise features\n",
    "### as in many feature engineering techniques we will use some of the well known tricks\n",
    "> pairwise sum, diff, ratio\n",
    "\n",
    "> min, max, mean\n",
    "\n",
    "### Let's write a function to do just that"
   ]
  },
  {
   "cell_type": "code",
   "execution_count": 45,
   "metadata": {},
   "outputs": [],
   "source": [
    "def pairwise(col_1, col_2):\n",
    "    \"\"\"\n",
    "    calculates pairwise features\n",
    "    for given two dataframe columns\n",
    "    \"\"\"\n",
    "    tot = col_1 + col_2\n",
    "    diff = col_1 - col_2\n",
    "    ratio = col_1/col_2\n",
    "    return tot, diff, ratio"
   ]
  },
  {
   "cell_type": "code",
   "execution_count": 46,
   "metadata": {},
   "outputs": [],
   "source": [
    "def stats(col):\n",
    "    \"\"\"\n",
    "    calculates stats for given\n",
    "    dataframe column\n",
    "    \"\"\"\n",
    "    mini = col.min()\n",
    "    maxi = col.max()\n",
    "    avg = col.mean()\n",
    "    return mini, maxi, avg"
   ]
  },
  {
   "cell_type": "code",
   "execution_count": 47,
   "metadata": {},
   "outputs": [],
   "source": [
    "def feature_engine_numericals(dff, i, f):\n",
    "    \"\"\"\n",
    "    Expands dataframe based on current lists of\n",
    "    numerical features (int, floats)\n",
    "    \"\"\"\n",
    "    numericals = i + f\n",
    "    df = dff.copy()\n",
    "    for x in numericals:\n",
    "        df[f'{x}_min'], df[f'{x}_max'], df[f'{x}_mean'] = stats(df[x])\n",
    "        for e in numericals:\n",
    "            if e==x:\n",
    "                pass\n",
    "            else:\n",
    "                df[f'sum_{x}_{e}'], df[f'diff_{x}_{e}'], df[f'ratio_{x}_{e}'] = pairwise(df[x], df[e])\n",
    "    return df"
   ]
  },
  {
   "cell_type": "code",
   "execution_count": 48,
   "metadata": {},
   "outputs": [
    {
     "name": "stdout",
     "output_type": "stream",
     "text": [
      "Wall time: 27.2 s\n"
     ]
    }
   ],
   "source": [
    "%%time\n",
    "pair_df = feature_engine_numericals(df, i, f)"
   ]
  },
  {
   "cell_type": "markdown",
   "metadata": {},
   "source": [
    "### Feature engineering on categoricals transformations"
   ]
  },
  {
   "cell_type": "code",
   "execution_count": 49,
   "metadata": {},
   "outputs": [],
   "source": [
    "def feature_engine_categoricals(dff, binary, one_hot):\n",
    "    \"\"\"\n",
    "    Function to expand dataframe by one-hot encoding\n",
    "    categorical variables also, changes datatype to float\n",
    "    \"\"\"\n",
    "    df = dff.copy()\n",
    "    lb = LabelBinarizer()\n",
    "    for b in binary:\n",
    "        df[f'{b}_tr'] = lb.fit_transform(df[b]).astype(np.float64)\n",
    "        df = df.drop(columns=b)\n",
    "    df = pd.get_dummies(df, columns=one_hot, dtype=float)\n",
    "    return df"
   ]
  },
  {
   "cell_type": "code",
   "execution_count": 50,
   "metadata": {},
   "outputs": [
    {
     "name": "stdout",
     "output_type": "stream",
     "text": [
      "Wall time: 38.9 s\n"
     ]
    }
   ],
   "source": [
    "%%time\n",
    "pair_df = feature_engine_categoricals(pair_df, binary, one_hot)"
   ]
  },
  {
   "cell_type": "code",
   "execution_count": 51,
   "metadata": {},
   "outputs": [
    {
     "data": {
      "text/plain": [
       "((51047, 4306), (51047, 58))"
      ]
     },
     "execution_count": 51,
     "metadata": {},
     "output_type": "execute_result"
    }
   ],
   "source": [
    "pair_df.shape, df.shape"
   ]
  },
  {
   "cell_type": "code",
   "execution_count": 52,
   "metadata": {},
   "outputs": [
    {
     "data": {
      "text/html": [
       "<div>\n",
       "<style scoped>\n",
       "    .dataframe tbody tr th:only-of-type {\n",
       "        vertical-align: middle;\n",
       "    }\n",
       "\n",
       "    .dataframe tbody tr th {\n",
       "        vertical-align: top;\n",
       "    }\n",
       "\n",
       "    .dataframe thead th {\n",
       "        text-align: right;\n",
       "    }\n",
       "</style>\n",
       "<table border=\"1\" class=\"dataframe\">\n",
       "  <thead>\n",
       "    <tr style=\"text-align: right;\">\n",
       "      <th></th>\n",
       "      <th>CustomerID</th>\n",
       "      <th>Churn</th>\n",
       "      <th>MonthlyRevenue</th>\n",
       "      <th>MonthlyMinutes</th>\n",
       "      <th>TotalRecurringCharge</th>\n",
       "      <th>DirectorAssistedCalls</th>\n",
       "      <th>OverageMinutes</th>\n",
       "      <th>RoamingCalls</th>\n",
       "      <th>PercChangeMinutes</th>\n",
       "      <th>PercChangeRevenues</th>\n",
       "      <th>DroppedCalls</th>\n",
       "      <th>BlockedCalls</th>\n",
       "      <th>UnansweredCalls</th>\n",
       "      <th>CustomerCareCalls</th>\n",
       "      <th>ThreewayCalls</th>\n",
       "      <th>ReceivedCalls</th>\n",
       "      <th>OutboundCalls</th>\n",
       "      <th>InboundCalls</th>\n",
       "      <th>PeakCallsInOut</th>\n",
       "      <th>OffPeakCallsInOut</th>\n",
       "      <th>DroppedBlockedCalls</th>\n",
       "      <th>CallForwardingCalls</th>\n",
       "      <th>CallWaitingCalls</th>\n",
       "      <th>MonthsInService</th>\n",
       "      <th>UniqueSubs</th>\n",
       "      <th>ActiveSubs</th>\n",
       "      <th>Handsets</th>\n",
       "      <th>HandsetModels</th>\n",
       "      <th>CurrentEquipmentDays</th>\n",
       "      <th>AgeHH1</th>\n",
       "      <th>AgeHH2</th>\n",
       "      <th>RetentionCalls</th>\n",
       "      <th>RetentionOffersAccepted</th>\n",
       "      <th>ReferralsMadeBySubscriber</th>\n",
       "      <th>IncomeGroup</th>\n",
       "      <th>AdjustmentsToCreditRating</th>\n",
       "      <th>MonthsInService_min</th>\n",
       "      <th>MonthsInService_max</th>\n",
       "      <th>MonthsInService_mean</th>\n",
       "      <th>sum_MonthsInService_UniqueSubs</th>\n",
       "      <th>diff_MonthsInService_UniqueSubs</th>\n",
       "      <th>ratio_MonthsInService_UniqueSubs</th>\n",
       "      <th>sum_MonthsInService_ActiveSubs</th>\n",
       "      <th>diff_MonthsInService_ActiveSubs</th>\n",
       "      <th>ratio_MonthsInService_ActiveSubs</th>\n",
       "      <th>sum_MonthsInService_RetentionCalls</th>\n",
       "      <th>diff_MonthsInService_RetentionCalls</th>\n",
       "      <th>ratio_MonthsInService_RetentionCalls</th>\n",
       "      <th>sum_MonthsInService_RetentionOffersAccepted</th>\n",
       "      <th>diff_MonthsInService_RetentionOffersAccepted</th>\n",
       "      <th>ratio_MonthsInService_RetentionOffersAccepted</th>\n",
       "      <th>sum_MonthsInService_ReferralsMadeBySubscriber</th>\n",
       "      <th>diff_MonthsInService_ReferralsMadeBySubscriber</th>\n",
       "      <th>ratio_MonthsInService_ReferralsMadeBySubscriber</th>\n",
       "      <th>sum_MonthsInService_IncomeGroup</th>\n",
       "      <th>diff_MonthsInService_IncomeGroup</th>\n",
       "      <th>ratio_MonthsInService_IncomeGroup</th>\n",
       "      <th>sum_MonthsInService_AdjustmentsToCreditRating</th>\n",
       "      <th>diff_MonthsInService_AdjustmentsToCreditRating</th>\n",
       "      <th>ratio_MonthsInService_AdjustmentsToCreditRating</th>\n",
       "      <th>sum_MonthsInService_MonthlyRevenue</th>\n",
       "      <th>diff_MonthsInService_MonthlyRevenue</th>\n",
       "      <th>ratio_MonthsInService_MonthlyRevenue</th>\n",
       "      <th>sum_MonthsInService_MonthlyMinutes</th>\n",
       "      <th>diff_MonthsInService_MonthlyMinutes</th>\n",
       "      <th>ratio_MonthsInService_MonthlyMinutes</th>\n",
       "      <th>sum_MonthsInService_TotalRecurringCharge</th>\n",
       "      <th>diff_MonthsInService_TotalRecurringCharge</th>\n",
       "      <th>ratio_MonthsInService_TotalRecurringCharge</th>\n",
       "      <th>sum_MonthsInService_DirectorAssistedCalls</th>\n",
       "      <th>diff_MonthsInService_DirectorAssistedCalls</th>\n",
       "      <th>ratio_MonthsInService_DirectorAssistedCalls</th>\n",
       "      <th>sum_MonthsInService_OverageMinutes</th>\n",
       "      <th>diff_MonthsInService_OverageMinutes</th>\n",
       "      <th>ratio_MonthsInService_OverageMinutes</th>\n",
       "      <th>sum_MonthsInService_RoamingCalls</th>\n",
       "      <th>diff_MonthsInService_RoamingCalls</th>\n",
       "      <th>ratio_MonthsInService_RoamingCalls</th>\n",
       "      <th>sum_MonthsInService_PercChangeMinutes</th>\n",
       "      <th>diff_MonthsInService_PercChangeMinutes</th>\n",
       "      <th>ratio_MonthsInService_PercChangeMinutes</th>\n",
       "      <th>sum_MonthsInService_PercChangeRevenues</th>\n",
       "      <th>diff_MonthsInService_PercChangeRevenues</th>\n",
       "      <th>ratio_MonthsInService_PercChangeRevenues</th>\n",
       "      <th>sum_MonthsInService_DroppedCalls</th>\n",
       "      <th>diff_MonthsInService_DroppedCalls</th>\n",
       "      <th>ratio_MonthsInService_DroppedCalls</th>\n",
       "      <th>sum_MonthsInService_BlockedCalls</th>\n",
       "      <th>diff_MonthsInService_BlockedCalls</th>\n",
       "      <th>ratio_MonthsInService_BlockedCalls</th>\n",
       "      <th>sum_MonthsInService_UnansweredCalls</th>\n",
       "      <th>diff_MonthsInService_UnansweredCalls</th>\n",
       "      <th>ratio_MonthsInService_UnansweredCalls</th>\n",
       "      <th>sum_MonthsInService_CustomerCareCalls</th>\n",
       "      <th>diff_MonthsInService_CustomerCareCalls</th>\n",
       "      <th>ratio_MonthsInService_CustomerCareCalls</th>\n",
       "      <th>sum_MonthsInService_ThreewayCalls</th>\n",
       "      <th>diff_MonthsInService_ThreewayCalls</th>\n",
       "      <th>ratio_MonthsInService_ThreewayCalls</th>\n",
       "      <th>sum_MonthsInService_ReceivedCalls</th>\n",
       "      <th>...</th>\n",
       "      <th>ServiceArea_SFROAK510</th>\n",
       "      <th>ServiceArea_SFROAK925</th>\n",
       "      <th>ServiceArea_SFRPAL650</th>\n",
       "      <th>ServiceArea_SFRRCM510</th>\n",
       "      <th>ServiceArea_SFRROC916</th>\n",
       "      <th>ServiceArea_SFRSAC916</th>\n",
       "      <th>ServiceArea_SFRSCL408</th>\n",
       "      <th>ServiceArea_SFRSFR415</th>\n",
       "      <th>ServiceArea_SFRSFS650</th>\n",
       "      <th>ServiceArea_SFRSGS530</th>\n",
       "      <th>ServiceArea_SFRSMO650</th>\n",
       "      <th>ServiceArea_SFRSRO707</th>\n",
       "      <th>ServiceArea_SFRVAC707</th>\n",
       "      <th>ServiceArea_SFRWLC925</th>\n",
       "      <th>ServiceArea_SFRWOO530</th>\n",
       "      <th>ServiceArea_SFRWTV831</th>\n",
       "      <th>ServiceArea_SFURED530</th>\n",
       "      <th>ServiceArea_SFUSAC530</th>\n",
       "      <th>ServiceArea_SHECAR717</th>\n",
       "      <th>ServiceArea_SHECHA717</th>\n",
       "      <th>ServiceArea_SHEEDI540</th>\n",
       "      <th>ServiceArea_SHEFTR540</th>\n",
       "      <th>ServiceArea_SHEHAG301</th>\n",
       "      <th>ServiceArea_SHEHAR540</th>\n",
       "      <th>ServiceArea_SHEMAR304</th>\n",
       "      <th>ServiceArea_SHEMYE301</th>\n",
       "      <th>ServiceArea_SHEWIN540</th>\n",
       "      <th>ServiceArea_SHEYOR717</th>\n",
       "      <th>ServiceArea_SLCKAY801</th>\n",
       "      <th>ServiceArea_SLCOGD801</th>\n",
       "      <th>ServiceArea_SLCPRK435</th>\n",
       "      <th>ServiceArea_SLCPRO801</th>\n",
       "      <th>ServiceArea_SLCSLC801</th>\n",
       "      <th>ServiceArea_SLCTOO801</th>\n",
       "      <th>ServiceArea_SLUSTG435</th>\n",
       "      <th>ServiceArea_STLCHA636</th>\n",
       "      <th>ServiceArea_STLCHE636</th>\n",
       "      <th>ServiceArea_STLCMB573</th>\n",
       "      <th>ServiceArea_STLCOL618</th>\n",
       "      <th>ServiceArea_STLCPG573</th>\n",
       "      <th>ServiceArea_STLCRD618</th>\n",
       "      <th>ServiceArea_STLFUL573</th>\n",
       "      <th>ServiceArea_STLHNB573</th>\n",
       "      <th>ServiceArea_STLJEF573</th>\n",
       "      <th>ServiceArea_STLJOP417</th>\n",
       "      <th>ServiceArea_STLJOS816</th>\n",
       "      <th>ServiceArea_STLOZA573</th>\n",
       "      <th>ServiceArea_STLPIT316</th>\n",
       "      <th>ServiceArea_STLPRB573</th>\n",
       "      <th>ServiceArea_STLQUI217</th>\n",
       "      <th>ServiceArea_STLROL573</th>\n",
       "      <th>ServiceArea_STLSED660</th>\n",
       "      <th>ServiceArea_STLSPR417</th>\n",
       "      <th>ServiceArea_STLSTL314</th>\n",
       "      <th>ServiceArea_VAHCHL804</th>\n",
       "      <th>ServiceArea_VAHDAN804</th>\n",
       "      <th>ServiceArea_VAHLYN804</th>\n",
       "      <th>ServiceArea_VAHMTN540</th>\n",
       "      <th>ServiceArea_VAHRAD540</th>\n",
       "      <th>ServiceArea_VAHROA540</th>\n",
       "      <th>ServiceArea_VAHSTA540</th>\n",
       "      <th>ServiceArea_VAHWAY540</th>\n",
       "      <th>HandsetPrice_10</th>\n",
       "      <th>HandsetPrice_100</th>\n",
       "      <th>HandsetPrice_130</th>\n",
       "      <th>HandsetPrice_150</th>\n",
       "      <th>HandsetPrice_180</th>\n",
       "      <th>HandsetPrice_200</th>\n",
       "      <th>HandsetPrice_240</th>\n",
       "      <th>HandsetPrice_250</th>\n",
       "      <th>HandsetPrice_30</th>\n",
       "      <th>HandsetPrice_300</th>\n",
       "      <th>HandsetPrice_40</th>\n",
       "      <th>HandsetPrice_400</th>\n",
       "      <th>HandsetPrice_500</th>\n",
       "      <th>HandsetPrice_60</th>\n",
       "      <th>HandsetPrice_80</th>\n",
       "      <th>HandsetPrice_Unknown</th>\n",
       "      <th>CreditRating_1-Highest</th>\n",
       "      <th>CreditRating_2-High</th>\n",
       "      <th>CreditRating_3-Good</th>\n",
       "      <th>CreditRating_4-Medium</th>\n",
       "      <th>CreditRating_5-Low</th>\n",
       "      <th>CreditRating_6-VeryLow</th>\n",
       "      <th>CreditRating_7-Lowest</th>\n",
       "      <th>PrizmCode_Other</th>\n",
       "      <th>PrizmCode_Rural</th>\n",
       "      <th>PrizmCode_Suburban</th>\n",
       "      <th>PrizmCode_Town</th>\n",
       "      <th>Occupation_Clerical</th>\n",
       "      <th>Occupation_Crafts</th>\n",
       "      <th>Occupation_Homemaker</th>\n",
       "      <th>Occupation_Other</th>\n",
       "      <th>Occupation_Professional</th>\n",
       "      <th>Occupation_Retired</th>\n",
       "      <th>Occupation_Self</th>\n",
       "      <th>Occupation_Student</th>\n",
       "      <th>MaritalStatus_No</th>\n",
       "      <th>MaritalStatus_Unknown</th>\n",
       "      <th>MaritalStatus_Yes</th>\n",
       "    </tr>\n",
       "  </thead>\n",
       "  <tbody>\n",
       "    <tr>\n",
       "      <td>0</td>\n",
       "      <td>3000002</td>\n",
       "      <td>Yes</td>\n",
       "      <td>24.00</td>\n",
       "      <td>219.0</td>\n",
       "      <td>22.0</td>\n",
       "      <td>0.25</td>\n",
       "      <td>0.0</td>\n",
       "      <td>0.0</td>\n",
       "      <td>-157.0</td>\n",
       "      <td>-19.0</td>\n",
       "      <td>0.7</td>\n",
       "      <td>0.7</td>\n",
       "      <td>6.3</td>\n",
       "      <td>0.0</td>\n",
       "      <td>0.0</td>\n",
       "      <td>97.2</td>\n",
       "      <td>0.0</td>\n",
       "      <td>0.0</td>\n",
       "      <td>58.0</td>\n",
       "      <td>24.0</td>\n",
       "      <td>1.3</td>\n",
       "      <td>0.0</td>\n",
       "      <td>0.3</td>\n",
       "      <td>61</td>\n",
       "      <td>2</td>\n",
       "      <td>1</td>\n",
       "      <td>2.0</td>\n",
       "      <td>2.0</td>\n",
       "      <td>361.0</td>\n",
       "      <td>62.0</td>\n",
       "      <td>0.0</td>\n",
       "      <td>1</td>\n",
       "      <td>0</td>\n",
       "      <td>0</td>\n",
       "      <td>4</td>\n",
       "      <td>0</td>\n",
       "      <td>6</td>\n",
       "      <td>61</td>\n",
       "      <td>18.756264</td>\n",
       "      <td>63</td>\n",
       "      <td>59</td>\n",
       "      <td>30.5</td>\n",
       "      <td>62</td>\n",
       "      <td>60</td>\n",
       "      <td>61.0</td>\n",
       "      <td>62</td>\n",
       "      <td>60</td>\n",
       "      <td>61.0</td>\n",
       "      <td>61</td>\n",
       "      <td>61</td>\n",
       "      <td>inf</td>\n",
       "      <td>61</td>\n",
       "      <td>61</td>\n",
       "      <td>inf</td>\n",
       "      <td>65</td>\n",
       "      <td>57</td>\n",
       "      <td>15.250000</td>\n",
       "      <td>61</td>\n",
       "      <td>61</td>\n",
       "      <td>inf</td>\n",
       "      <td>85.00</td>\n",
       "      <td>37.00</td>\n",
       "      <td>2.541667</td>\n",
       "      <td>280.0</td>\n",
       "      <td>-158.0</td>\n",
       "      <td>0.278539</td>\n",
       "      <td>83.0</td>\n",
       "      <td>39.0</td>\n",
       "      <td>2.772727</td>\n",
       "      <td>61.25</td>\n",
       "      <td>60.75</td>\n",
       "      <td>244.000000</td>\n",
       "      <td>61.0</td>\n",
       "      <td>61.0</td>\n",
       "      <td>inf</td>\n",
       "      <td>61.0</td>\n",
       "      <td>61.0</td>\n",
       "      <td>inf</td>\n",
       "      <td>-96.0</td>\n",
       "      <td>218.0</td>\n",
       "      <td>-0.388535</td>\n",
       "      <td>42.0</td>\n",
       "      <td>80.0</td>\n",
       "      <td>-3.210526</td>\n",
       "      <td>61.7</td>\n",
       "      <td>60.3</td>\n",
       "      <td>87.142857</td>\n",
       "      <td>61.7</td>\n",
       "      <td>60.3</td>\n",
       "      <td>87.142857</td>\n",
       "      <td>67.3</td>\n",
       "      <td>54.7</td>\n",
       "      <td>9.682540</td>\n",
       "      <td>61.0</td>\n",
       "      <td>61.0</td>\n",
       "      <td>inf</td>\n",
       "      <td>61.0</td>\n",
       "      <td>61.0</td>\n",
       "      <td>inf</td>\n",
       "      <td>158.2</td>\n",
       "      <td>...</td>\n",
       "      <td>0.0</td>\n",
       "      <td>0.0</td>\n",
       "      <td>0.0</td>\n",
       "      <td>0.0</td>\n",
       "      <td>0.0</td>\n",
       "      <td>0.0</td>\n",
       "      <td>0.0</td>\n",
       "      <td>0.0</td>\n",
       "      <td>0.0</td>\n",
       "      <td>0.0</td>\n",
       "      <td>0.0</td>\n",
       "      <td>0.0</td>\n",
       "      <td>0.0</td>\n",
       "      <td>0.0</td>\n",
       "      <td>0.0</td>\n",
       "      <td>0.0</td>\n",
       "      <td>0.0</td>\n",
       "      <td>0.0</td>\n",
       "      <td>0.0</td>\n",
       "      <td>0.0</td>\n",
       "      <td>0.0</td>\n",
       "      <td>0.0</td>\n",
       "      <td>0.0</td>\n",
       "      <td>0.0</td>\n",
       "      <td>0.0</td>\n",
       "      <td>0.0</td>\n",
       "      <td>0.0</td>\n",
       "      <td>0.0</td>\n",
       "      <td>0.0</td>\n",
       "      <td>0.0</td>\n",
       "      <td>0.0</td>\n",
       "      <td>0.0</td>\n",
       "      <td>0.0</td>\n",
       "      <td>0.0</td>\n",
       "      <td>0.0</td>\n",
       "      <td>0.0</td>\n",
       "      <td>0.0</td>\n",
       "      <td>0.0</td>\n",
       "      <td>0.0</td>\n",
       "      <td>0.0</td>\n",
       "      <td>0.0</td>\n",
       "      <td>0.0</td>\n",
       "      <td>0.0</td>\n",
       "      <td>0.0</td>\n",
       "      <td>0.0</td>\n",
       "      <td>0.0</td>\n",
       "      <td>0.0</td>\n",
       "      <td>0.0</td>\n",
       "      <td>0.0</td>\n",
       "      <td>0.0</td>\n",
       "      <td>0.0</td>\n",
       "      <td>0.0</td>\n",
       "      <td>0.0</td>\n",
       "      <td>0.0</td>\n",
       "      <td>0.0</td>\n",
       "      <td>0.0</td>\n",
       "      <td>0.0</td>\n",
       "      <td>0.0</td>\n",
       "      <td>0.0</td>\n",
       "      <td>0.0</td>\n",
       "      <td>0.0</td>\n",
       "      <td>0.0</td>\n",
       "      <td>0.0</td>\n",
       "      <td>0.0</td>\n",
       "      <td>0.0</td>\n",
       "      <td>0.0</td>\n",
       "      <td>0.0</td>\n",
       "      <td>0.0</td>\n",
       "      <td>0.0</td>\n",
       "      <td>0.0</td>\n",
       "      <td>1.0</td>\n",
       "      <td>0.0</td>\n",
       "      <td>0.0</td>\n",
       "      <td>0.0</td>\n",
       "      <td>0.0</td>\n",
       "      <td>0.0</td>\n",
       "      <td>0.0</td>\n",
       "      <td>0.0</td>\n",
       "      <td>1.0</td>\n",
       "      <td>0.0</td>\n",
       "      <td>0.0</td>\n",
       "      <td>0.0</td>\n",
       "      <td>0.0</td>\n",
       "      <td>0.0</td>\n",
       "      <td>0.0</td>\n",
       "      <td>0.0</td>\n",
       "      <td>0.0</td>\n",
       "      <td>1.0</td>\n",
       "      <td>0.0</td>\n",
       "      <td>0.0</td>\n",
       "      <td>0.0</td>\n",
       "      <td>0.0</td>\n",
       "      <td>0.0</td>\n",
       "      <td>1.0</td>\n",
       "      <td>0.0</td>\n",
       "      <td>0.0</td>\n",
       "      <td>0.0</td>\n",
       "      <td>1.0</td>\n",
       "      <td>0.0</td>\n",
       "      <td>0.0</td>\n",
       "    </tr>\n",
       "    <tr>\n",
       "      <td>1</td>\n",
       "      <td>3000010</td>\n",
       "      <td>Yes</td>\n",
       "      <td>16.99</td>\n",
       "      <td>10.0</td>\n",
       "      <td>17.0</td>\n",
       "      <td>0.00</td>\n",
       "      <td>0.0</td>\n",
       "      <td>0.0</td>\n",
       "      <td>-4.0</td>\n",
       "      <td>0.0</td>\n",
       "      <td>0.3</td>\n",
       "      <td>0.0</td>\n",
       "      <td>2.7</td>\n",
       "      <td>0.0</td>\n",
       "      <td>0.0</td>\n",
       "      <td>0.0</td>\n",
       "      <td>0.0</td>\n",
       "      <td>0.0</td>\n",
       "      <td>5.0</td>\n",
       "      <td>1.0</td>\n",
       "      <td>0.3</td>\n",
       "      <td>0.0</td>\n",
       "      <td>0.0</td>\n",
       "      <td>58</td>\n",
       "      <td>1</td>\n",
       "      <td>1</td>\n",
       "      <td>2.0</td>\n",
       "      <td>1.0</td>\n",
       "      <td>1504.0</td>\n",
       "      <td>40.0</td>\n",
       "      <td>42.0</td>\n",
       "      <td>0</td>\n",
       "      <td>0</td>\n",
       "      <td>0</td>\n",
       "      <td>5</td>\n",
       "      <td>0</td>\n",
       "      <td>6</td>\n",
       "      <td>61</td>\n",
       "      <td>18.756264</td>\n",
       "      <td>59</td>\n",
       "      <td>57</td>\n",
       "      <td>58.0</td>\n",
       "      <td>59</td>\n",
       "      <td>57</td>\n",
       "      <td>58.0</td>\n",
       "      <td>58</td>\n",
       "      <td>58</td>\n",
       "      <td>inf</td>\n",
       "      <td>58</td>\n",
       "      <td>58</td>\n",
       "      <td>inf</td>\n",
       "      <td>58</td>\n",
       "      <td>58</td>\n",
       "      <td>inf</td>\n",
       "      <td>63</td>\n",
       "      <td>53</td>\n",
       "      <td>11.600000</td>\n",
       "      <td>58</td>\n",
       "      <td>58</td>\n",
       "      <td>inf</td>\n",
       "      <td>74.99</td>\n",
       "      <td>41.01</td>\n",
       "      <td>3.413773</td>\n",
       "      <td>68.0</td>\n",
       "      <td>48.0</td>\n",
       "      <td>5.800000</td>\n",
       "      <td>75.0</td>\n",
       "      <td>41.0</td>\n",
       "      <td>3.411765</td>\n",
       "      <td>58.00</td>\n",
       "      <td>58.00</td>\n",
       "      <td>inf</td>\n",
       "      <td>58.0</td>\n",
       "      <td>58.0</td>\n",
       "      <td>inf</td>\n",
       "      <td>58.0</td>\n",
       "      <td>58.0</td>\n",
       "      <td>inf</td>\n",
       "      <td>54.0</td>\n",
       "      <td>62.0</td>\n",
       "      <td>-14.500000</td>\n",
       "      <td>58.0</td>\n",
       "      <td>58.0</td>\n",
       "      <td>inf</td>\n",
       "      <td>58.3</td>\n",
       "      <td>57.7</td>\n",
       "      <td>193.333333</td>\n",
       "      <td>58.0</td>\n",
       "      <td>58.0</td>\n",
       "      <td>inf</td>\n",
       "      <td>60.7</td>\n",
       "      <td>55.3</td>\n",
       "      <td>21.481481</td>\n",
       "      <td>58.0</td>\n",
       "      <td>58.0</td>\n",
       "      <td>inf</td>\n",
       "      <td>58.0</td>\n",
       "      <td>58.0</td>\n",
       "      <td>inf</td>\n",
       "      <td>58.0</td>\n",
       "      <td>...</td>\n",
       "      <td>0.0</td>\n",
       "      <td>0.0</td>\n",
       "      <td>0.0</td>\n",
       "      <td>0.0</td>\n",
       "      <td>0.0</td>\n",
       "      <td>0.0</td>\n",
       "      <td>0.0</td>\n",
       "      <td>0.0</td>\n",
       "      <td>0.0</td>\n",
       "      <td>0.0</td>\n",
       "      <td>0.0</td>\n",
       "      <td>0.0</td>\n",
       "      <td>0.0</td>\n",
       "      <td>0.0</td>\n",
       "      <td>0.0</td>\n",
       "      <td>0.0</td>\n",
       "      <td>0.0</td>\n",
       "      <td>0.0</td>\n",
       "      <td>0.0</td>\n",
       "      <td>0.0</td>\n",
       "      <td>0.0</td>\n",
       "      <td>0.0</td>\n",
       "      <td>0.0</td>\n",
       "      <td>0.0</td>\n",
       "      <td>0.0</td>\n",
       "      <td>0.0</td>\n",
       "      <td>0.0</td>\n",
       "      <td>0.0</td>\n",
       "      <td>0.0</td>\n",
       "      <td>0.0</td>\n",
       "      <td>0.0</td>\n",
       "      <td>0.0</td>\n",
       "      <td>0.0</td>\n",
       "      <td>0.0</td>\n",
       "      <td>0.0</td>\n",
       "      <td>0.0</td>\n",
       "      <td>0.0</td>\n",
       "      <td>0.0</td>\n",
       "      <td>0.0</td>\n",
       "      <td>0.0</td>\n",
       "      <td>0.0</td>\n",
       "      <td>0.0</td>\n",
       "      <td>0.0</td>\n",
       "      <td>0.0</td>\n",
       "      <td>0.0</td>\n",
       "      <td>0.0</td>\n",
       "      <td>0.0</td>\n",
       "      <td>0.0</td>\n",
       "      <td>0.0</td>\n",
       "      <td>0.0</td>\n",
       "      <td>0.0</td>\n",
       "      <td>0.0</td>\n",
       "      <td>0.0</td>\n",
       "      <td>0.0</td>\n",
       "      <td>0.0</td>\n",
       "      <td>0.0</td>\n",
       "      <td>0.0</td>\n",
       "      <td>0.0</td>\n",
       "      <td>0.0</td>\n",
       "      <td>0.0</td>\n",
       "      <td>0.0</td>\n",
       "      <td>0.0</td>\n",
       "      <td>0.0</td>\n",
       "      <td>0.0</td>\n",
       "      <td>0.0</td>\n",
       "      <td>0.0</td>\n",
       "      <td>0.0</td>\n",
       "      <td>0.0</td>\n",
       "      <td>0.0</td>\n",
       "      <td>0.0</td>\n",
       "      <td>1.0</td>\n",
       "      <td>0.0</td>\n",
       "      <td>0.0</td>\n",
       "      <td>0.0</td>\n",
       "      <td>0.0</td>\n",
       "      <td>0.0</td>\n",
       "      <td>0.0</td>\n",
       "      <td>0.0</td>\n",
       "      <td>0.0</td>\n",
       "      <td>0.0</td>\n",
       "      <td>0.0</td>\n",
       "      <td>1.0</td>\n",
       "      <td>0.0</td>\n",
       "      <td>0.0</td>\n",
       "      <td>0.0</td>\n",
       "      <td>0.0</td>\n",
       "      <td>0.0</td>\n",
       "      <td>1.0</td>\n",
       "      <td>0.0</td>\n",
       "      <td>0.0</td>\n",
       "      <td>0.0</td>\n",
       "      <td>0.0</td>\n",
       "      <td>0.0</td>\n",
       "      <td>1.0</td>\n",
       "      <td>0.0</td>\n",
       "      <td>0.0</td>\n",
       "      <td>0.0</td>\n",
       "      <td>0.0</td>\n",
       "      <td>0.0</td>\n",
       "      <td>1.0</td>\n",
       "    </tr>\n",
       "    <tr>\n",
       "      <td>2</td>\n",
       "      <td>3000014</td>\n",
       "      <td>No</td>\n",
       "      <td>38.00</td>\n",
       "      <td>8.0</td>\n",
       "      <td>38.0</td>\n",
       "      <td>0.00</td>\n",
       "      <td>0.0</td>\n",
       "      <td>0.0</td>\n",
       "      <td>-2.0</td>\n",
       "      <td>0.0</td>\n",
       "      <td>0.0</td>\n",
       "      <td>0.0</td>\n",
       "      <td>0.0</td>\n",
       "      <td>0.0</td>\n",
       "      <td>0.0</td>\n",
       "      <td>0.4</td>\n",
       "      <td>0.3</td>\n",
       "      <td>0.0</td>\n",
       "      <td>1.3</td>\n",
       "      <td>3.7</td>\n",
       "      <td>0.0</td>\n",
       "      <td>0.0</td>\n",
       "      <td>0.0</td>\n",
       "      <td>60</td>\n",
       "      <td>1</td>\n",
       "      <td>1</td>\n",
       "      <td>1.0</td>\n",
       "      <td>1.0</td>\n",
       "      <td>1812.0</td>\n",
       "      <td>26.0</td>\n",
       "      <td>26.0</td>\n",
       "      <td>0</td>\n",
       "      <td>0</td>\n",
       "      <td>0</td>\n",
       "      <td>6</td>\n",
       "      <td>0</td>\n",
       "      <td>6</td>\n",
       "      <td>61</td>\n",
       "      <td>18.756264</td>\n",
       "      <td>61</td>\n",
       "      <td>59</td>\n",
       "      <td>60.0</td>\n",
       "      <td>61</td>\n",
       "      <td>59</td>\n",
       "      <td>60.0</td>\n",
       "      <td>60</td>\n",
       "      <td>60</td>\n",
       "      <td>inf</td>\n",
       "      <td>60</td>\n",
       "      <td>60</td>\n",
       "      <td>inf</td>\n",
       "      <td>60</td>\n",
       "      <td>60</td>\n",
       "      <td>inf</td>\n",
       "      <td>66</td>\n",
       "      <td>54</td>\n",
       "      <td>10.000000</td>\n",
       "      <td>60</td>\n",
       "      <td>60</td>\n",
       "      <td>inf</td>\n",
       "      <td>98.00</td>\n",
       "      <td>22.00</td>\n",
       "      <td>1.578947</td>\n",
       "      <td>68.0</td>\n",
       "      <td>52.0</td>\n",
       "      <td>7.500000</td>\n",
       "      <td>98.0</td>\n",
       "      <td>22.0</td>\n",
       "      <td>1.578947</td>\n",
       "      <td>60.00</td>\n",
       "      <td>60.00</td>\n",
       "      <td>inf</td>\n",
       "      <td>60.0</td>\n",
       "      <td>60.0</td>\n",
       "      <td>inf</td>\n",
       "      <td>60.0</td>\n",
       "      <td>60.0</td>\n",
       "      <td>inf</td>\n",
       "      <td>58.0</td>\n",
       "      <td>62.0</td>\n",
       "      <td>-30.000000</td>\n",
       "      <td>60.0</td>\n",
       "      <td>60.0</td>\n",
       "      <td>inf</td>\n",
       "      <td>60.0</td>\n",
       "      <td>60.0</td>\n",
       "      <td>inf</td>\n",
       "      <td>60.0</td>\n",
       "      <td>60.0</td>\n",
       "      <td>inf</td>\n",
       "      <td>60.0</td>\n",
       "      <td>60.0</td>\n",
       "      <td>inf</td>\n",
       "      <td>60.0</td>\n",
       "      <td>60.0</td>\n",
       "      <td>inf</td>\n",
       "      <td>60.0</td>\n",
       "      <td>60.0</td>\n",
       "      <td>inf</td>\n",
       "      <td>60.4</td>\n",
       "      <td>...</td>\n",
       "      <td>0.0</td>\n",
       "      <td>0.0</td>\n",
       "      <td>0.0</td>\n",
       "      <td>0.0</td>\n",
       "      <td>0.0</td>\n",
       "      <td>0.0</td>\n",
       "      <td>0.0</td>\n",
       "      <td>0.0</td>\n",
       "      <td>0.0</td>\n",
       "      <td>0.0</td>\n",
       "      <td>0.0</td>\n",
       "      <td>0.0</td>\n",
       "      <td>0.0</td>\n",
       "      <td>0.0</td>\n",
       "      <td>0.0</td>\n",
       "      <td>0.0</td>\n",
       "      <td>0.0</td>\n",
       "      <td>0.0</td>\n",
       "      <td>0.0</td>\n",
       "      <td>0.0</td>\n",
       "      <td>0.0</td>\n",
       "      <td>0.0</td>\n",
       "      <td>0.0</td>\n",
       "      <td>0.0</td>\n",
       "      <td>0.0</td>\n",
       "      <td>0.0</td>\n",
       "      <td>0.0</td>\n",
       "      <td>0.0</td>\n",
       "      <td>0.0</td>\n",
       "      <td>0.0</td>\n",
       "      <td>0.0</td>\n",
       "      <td>0.0</td>\n",
       "      <td>0.0</td>\n",
       "      <td>0.0</td>\n",
       "      <td>0.0</td>\n",
       "      <td>0.0</td>\n",
       "      <td>0.0</td>\n",
       "      <td>0.0</td>\n",
       "      <td>0.0</td>\n",
       "      <td>0.0</td>\n",
       "      <td>0.0</td>\n",
       "      <td>0.0</td>\n",
       "      <td>0.0</td>\n",
       "      <td>0.0</td>\n",
       "      <td>0.0</td>\n",
       "      <td>0.0</td>\n",
       "      <td>0.0</td>\n",
       "      <td>0.0</td>\n",
       "      <td>0.0</td>\n",
       "      <td>0.0</td>\n",
       "      <td>0.0</td>\n",
       "      <td>0.0</td>\n",
       "      <td>0.0</td>\n",
       "      <td>0.0</td>\n",
       "      <td>0.0</td>\n",
       "      <td>0.0</td>\n",
       "      <td>0.0</td>\n",
       "      <td>0.0</td>\n",
       "      <td>0.0</td>\n",
       "      <td>0.0</td>\n",
       "      <td>0.0</td>\n",
       "      <td>0.0</td>\n",
       "      <td>0.0</td>\n",
       "      <td>0.0</td>\n",
       "      <td>0.0</td>\n",
       "      <td>0.0</td>\n",
       "      <td>0.0</td>\n",
       "      <td>0.0</td>\n",
       "      <td>0.0</td>\n",
       "      <td>0.0</td>\n",
       "      <td>0.0</td>\n",
       "      <td>0.0</td>\n",
       "      <td>0.0</td>\n",
       "      <td>0.0</td>\n",
       "      <td>0.0</td>\n",
       "      <td>0.0</td>\n",
       "      <td>0.0</td>\n",
       "      <td>1.0</td>\n",
       "      <td>0.0</td>\n",
       "      <td>0.0</td>\n",
       "      <td>1.0</td>\n",
       "      <td>0.0</td>\n",
       "      <td>0.0</td>\n",
       "      <td>0.0</td>\n",
       "      <td>0.0</td>\n",
       "      <td>0.0</td>\n",
       "      <td>0.0</td>\n",
       "      <td>0.0</td>\n",
       "      <td>1.0</td>\n",
       "      <td>0.0</td>\n",
       "      <td>1.0</td>\n",
       "      <td>0.0</td>\n",
       "      <td>0.0</td>\n",
       "      <td>0.0</td>\n",
       "      <td>0.0</td>\n",
       "      <td>0.0</td>\n",
       "      <td>0.0</td>\n",
       "      <td>0.0</td>\n",
       "      <td>0.0</td>\n",
       "      <td>1.0</td>\n",
       "    </tr>\n",
       "    <tr>\n",
       "      <td>3</td>\n",
       "      <td>3000022</td>\n",
       "      <td>No</td>\n",
       "      <td>82.28</td>\n",
       "      <td>1312.0</td>\n",
       "      <td>75.0</td>\n",
       "      <td>1.24</td>\n",
       "      <td>0.0</td>\n",
       "      <td>0.0</td>\n",
       "      <td>157.0</td>\n",
       "      <td>8.1</td>\n",
       "      <td>52.0</td>\n",
       "      <td>7.7</td>\n",
       "      <td>76.0</td>\n",
       "      <td>4.3</td>\n",
       "      <td>1.3</td>\n",
       "      <td>200.3</td>\n",
       "      <td>370.3</td>\n",
       "      <td>147.0</td>\n",
       "      <td>555.7</td>\n",
       "      <td>303.7</td>\n",
       "      <td>59.7</td>\n",
       "      <td>0.0</td>\n",
       "      <td>22.7</td>\n",
       "      <td>59</td>\n",
       "      <td>2</td>\n",
       "      <td>2</td>\n",
       "      <td>9.0</td>\n",
       "      <td>4.0</td>\n",
       "      <td>458.0</td>\n",
       "      <td>30.0</td>\n",
       "      <td>0.0</td>\n",
       "      <td>0</td>\n",
       "      <td>0</td>\n",
       "      <td>0</td>\n",
       "      <td>6</td>\n",
       "      <td>0</td>\n",
       "      <td>6</td>\n",
       "      <td>61</td>\n",
       "      <td>18.756264</td>\n",
       "      <td>61</td>\n",
       "      <td>57</td>\n",
       "      <td>29.5</td>\n",
       "      <td>61</td>\n",
       "      <td>57</td>\n",
       "      <td>29.5</td>\n",
       "      <td>59</td>\n",
       "      <td>59</td>\n",
       "      <td>inf</td>\n",
       "      <td>59</td>\n",
       "      <td>59</td>\n",
       "      <td>inf</td>\n",
       "      <td>59</td>\n",
       "      <td>59</td>\n",
       "      <td>inf</td>\n",
       "      <td>65</td>\n",
       "      <td>53</td>\n",
       "      <td>9.833333</td>\n",
       "      <td>59</td>\n",
       "      <td>59</td>\n",
       "      <td>inf</td>\n",
       "      <td>141.28</td>\n",
       "      <td>-23.28</td>\n",
       "      <td>0.717064</td>\n",
       "      <td>1371.0</td>\n",
       "      <td>-1253.0</td>\n",
       "      <td>0.044970</td>\n",
       "      <td>134.0</td>\n",
       "      <td>-16.0</td>\n",
       "      <td>0.786667</td>\n",
       "      <td>60.24</td>\n",
       "      <td>57.76</td>\n",
       "      <td>47.580645</td>\n",
       "      <td>59.0</td>\n",
       "      <td>59.0</td>\n",
       "      <td>inf</td>\n",
       "      <td>59.0</td>\n",
       "      <td>59.0</td>\n",
       "      <td>inf</td>\n",
       "      <td>216.0</td>\n",
       "      <td>-98.0</td>\n",
       "      <td>0.375796</td>\n",
       "      <td>67.1</td>\n",
       "      <td>50.9</td>\n",
       "      <td>7.283951</td>\n",
       "      <td>111.0</td>\n",
       "      <td>7.0</td>\n",
       "      <td>1.134615</td>\n",
       "      <td>66.7</td>\n",
       "      <td>51.3</td>\n",
       "      <td>7.662338</td>\n",
       "      <td>135.0</td>\n",
       "      <td>-17.0</td>\n",
       "      <td>0.776316</td>\n",
       "      <td>63.3</td>\n",
       "      <td>54.7</td>\n",
       "      <td>13.72093</td>\n",
       "      <td>60.3</td>\n",
       "      <td>57.7</td>\n",
       "      <td>45.384615</td>\n",
       "      <td>259.3</td>\n",
       "      <td>...</td>\n",
       "      <td>0.0</td>\n",
       "      <td>0.0</td>\n",
       "      <td>0.0</td>\n",
       "      <td>0.0</td>\n",
       "      <td>0.0</td>\n",
       "      <td>0.0</td>\n",
       "      <td>0.0</td>\n",
       "      <td>0.0</td>\n",
       "      <td>0.0</td>\n",
       "      <td>0.0</td>\n",
       "      <td>0.0</td>\n",
       "      <td>0.0</td>\n",
       "      <td>0.0</td>\n",
       "      <td>0.0</td>\n",
       "      <td>0.0</td>\n",
       "      <td>0.0</td>\n",
       "      <td>0.0</td>\n",
       "      <td>0.0</td>\n",
       "      <td>0.0</td>\n",
       "      <td>0.0</td>\n",
       "      <td>0.0</td>\n",
       "      <td>0.0</td>\n",
       "      <td>0.0</td>\n",
       "      <td>0.0</td>\n",
       "      <td>0.0</td>\n",
       "      <td>0.0</td>\n",
       "      <td>0.0</td>\n",
       "      <td>0.0</td>\n",
       "      <td>0.0</td>\n",
       "      <td>0.0</td>\n",
       "      <td>0.0</td>\n",
       "      <td>0.0</td>\n",
       "      <td>0.0</td>\n",
       "      <td>0.0</td>\n",
       "      <td>0.0</td>\n",
       "      <td>0.0</td>\n",
       "      <td>0.0</td>\n",
       "      <td>0.0</td>\n",
       "      <td>0.0</td>\n",
       "      <td>0.0</td>\n",
       "      <td>0.0</td>\n",
       "      <td>0.0</td>\n",
       "      <td>0.0</td>\n",
       "      <td>0.0</td>\n",
       "      <td>0.0</td>\n",
       "      <td>0.0</td>\n",
       "      <td>0.0</td>\n",
       "      <td>0.0</td>\n",
       "      <td>0.0</td>\n",
       "      <td>0.0</td>\n",
       "      <td>0.0</td>\n",
       "      <td>0.0</td>\n",
       "      <td>0.0</td>\n",
       "      <td>0.0</td>\n",
       "      <td>0.0</td>\n",
       "      <td>0.0</td>\n",
       "      <td>0.0</td>\n",
       "      <td>0.0</td>\n",
       "      <td>0.0</td>\n",
       "      <td>0.0</td>\n",
       "      <td>0.0</td>\n",
       "      <td>0.0</td>\n",
       "      <td>1.0</td>\n",
       "      <td>0.0</td>\n",
       "      <td>0.0</td>\n",
       "      <td>0.0</td>\n",
       "      <td>0.0</td>\n",
       "      <td>0.0</td>\n",
       "      <td>0.0</td>\n",
       "      <td>0.0</td>\n",
       "      <td>0.0</td>\n",
       "      <td>0.0</td>\n",
       "      <td>0.0</td>\n",
       "      <td>0.0</td>\n",
       "      <td>0.0</td>\n",
       "      <td>0.0</td>\n",
       "      <td>0.0</td>\n",
       "      <td>0.0</td>\n",
       "      <td>0.0</td>\n",
       "      <td>0.0</td>\n",
       "      <td>0.0</td>\n",
       "      <td>1.0</td>\n",
       "      <td>0.0</td>\n",
       "      <td>0.0</td>\n",
       "      <td>0.0</td>\n",
       "      <td>1.0</td>\n",
       "      <td>0.0</td>\n",
       "      <td>0.0</td>\n",
       "      <td>0.0</td>\n",
       "      <td>0.0</td>\n",
       "      <td>0.0</td>\n",
       "      <td>0.0</td>\n",
       "      <td>1.0</td>\n",
       "      <td>0.0</td>\n",
       "      <td>0.0</td>\n",
       "      <td>0.0</td>\n",
       "      <td>0.0</td>\n",
       "      <td>1.0</td>\n",
       "      <td>0.0</td>\n",
       "      <td>0.0</td>\n",
       "    </tr>\n",
       "    <tr>\n",
       "      <td>4</td>\n",
       "      <td>3000026</td>\n",
       "      <td>Yes</td>\n",
       "      <td>17.14</td>\n",
       "      <td>0.0</td>\n",
       "      <td>17.0</td>\n",
       "      <td>0.00</td>\n",
       "      <td>0.0</td>\n",
       "      <td>0.0</td>\n",
       "      <td>0.0</td>\n",
       "      <td>-0.2</td>\n",
       "      <td>0.0</td>\n",
       "      <td>0.0</td>\n",
       "      <td>0.0</td>\n",
       "      <td>0.0</td>\n",
       "      <td>0.0</td>\n",
       "      <td>0.0</td>\n",
       "      <td>0.0</td>\n",
       "      <td>0.0</td>\n",
       "      <td>0.0</td>\n",
       "      <td>0.0</td>\n",
       "      <td>0.0</td>\n",
       "      <td>0.0</td>\n",
       "      <td>0.0</td>\n",
       "      <td>53</td>\n",
       "      <td>2</td>\n",
       "      <td>2</td>\n",
       "      <td>4.0</td>\n",
       "      <td>3.0</td>\n",
       "      <td>852.0</td>\n",
       "      <td>46.0</td>\n",
       "      <td>54.0</td>\n",
       "      <td>0</td>\n",
       "      <td>0</td>\n",
       "      <td>0</td>\n",
       "      <td>9</td>\n",
       "      <td>1</td>\n",
       "      <td>6</td>\n",
       "      <td>61</td>\n",
       "      <td>18.756264</td>\n",
       "      <td>55</td>\n",
       "      <td>51</td>\n",
       "      <td>26.5</td>\n",
       "      <td>55</td>\n",
       "      <td>51</td>\n",
       "      <td>26.5</td>\n",
       "      <td>53</td>\n",
       "      <td>53</td>\n",
       "      <td>inf</td>\n",
       "      <td>53</td>\n",
       "      <td>53</td>\n",
       "      <td>inf</td>\n",
       "      <td>53</td>\n",
       "      <td>53</td>\n",
       "      <td>inf</td>\n",
       "      <td>62</td>\n",
       "      <td>44</td>\n",
       "      <td>5.888889</td>\n",
       "      <td>54</td>\n",
       "      <td>52</td>\n",
       "      <td>53.0</td>\n",
       "      <td>70.14</td>\n",
       "      <td>35.86</td>\n",
       "      <td>3.092182</td>\n",
       "      <td>53.0</td>\n",
       "      <td>53.0</td>\n",
       "      <td>inf</td>\n",
       "      <td>70.0</td>\n",
       "      <td>36.0</td>\n",
       "      <td>3.117647</td>\n",
       "      <td>53.00</td>\n",
       "      <td>53.00</td>\n",
       "      <td>inf</td>\n",
       "      <td>53.0</td>\n",
       "      <td>53.0</td>\n",
       "      <td>inf</td>\n",
       "      <td>53.0</td>\n",
       "      <td>53.0</td>\n",
       "      <td>inf</td>\n",
       "      <td>53.0</td>\n",
       "      <td>53.0</td>\n",
       "      <td>inf</td>\n",
       "      <td>52.8</td>\n",
       "      <td>53.2</td>\n",
       "      <td>-265.000000</td>\n",
       "      <td>53.0</td>\n",
       "      <td>53.0</td>\n",
       "      <td>inf</td>\n",
       "      <td>53.0</td>\n",
       "      <td>53.0</td>\n",
       "      <td>inf</td>\n",
       "      <td>53.0</td>\n",
       "      <td>53.0</td>\n",
       "      <td>inf</td>\n",
       "      <td>53.0</td>\n",
       "      <td>53.0</td>\n",
       "      <td>inf</td>\n",
       "      <td>53.0</td>\n",
       "      <td>53.0</td>\n",
       "      <td>inf</td>\n",
       "      <td>53.0</td>\n",
       "      <td>...</td>\n",
       "      <td>0.0</td>\n",
       "      <td>0.0</td>\n",
       "      <td>0.0</td>\n",
       "      <td>0.0</td>\n",
       "      <td>0.0</td>\n",
       "      <td>0.0</td>\n",
       "      <td>0.0</td>\n",
       "      <td>0.0</td>\n",
       "      <td>0.0</td>\n",
       "      <td>0.0</td>\n",
       "      <td>0.0</td>\n",
       "      <td>0.0</td>\n",
       "      <td>0.0</td>\n",
       "      <td>0.0</td>\n",
       "      <td>0.0</td>\n",
       "      <td>0.0</td>\n",
       "      <td>0.0</td>\n",
       "      <td>0.0</td>\n",
       "      <td>0.0</td>\n",
       "      <td>0.0</td>\n",
       "      <td>0.0</td>\n",
       "      <td>0.0</td>\n",
       "      <td>0.0</td>\n",
       "      <td>0.0</td>\n",
       "      <td>0.0</td>\n",
       "      <td>0.0</td>\n",
       "      <td>0.0</td>\n",
       "      <td>0.0</td>\n",
       "      <td>0.0</td>\n",
       "      <td>0.0</td>\n",
       "      <td>0.0</td>\n",
       "      <td>0.0</td>\n",
       "      <td>0.0</td>\n",
       "      <td>0.0</td>\n",
       "      <td>0.0</td>\n",
       "      <td>0.0</td>\n",
       "      <td>0.0</td>\n",
       "      <td>0.0</td>\n",
       "      <td>0.0</td>\n",
       "      <td>0.0</td>\n",
       "      <td>0.0</td>\n",
       "      <td>0.0</td>\n",
       "      <td>0.0</td>\n",
       "      <td>0.0</td>\n",
       "      <td>0.0</td>\n",
       "      <td>0.0</td>\n",
       "      <td>0.0</td>\n",
       "      <td>0.0</td>\n",
       "      <td>0.0</td>\n",
       "      <td>0.0</td>\n",
       "      <td>0.0</td>\n",
       "      <td>0.0</td>\n",
       "      <td>0.0</td>\n",
       "      <td>0.0</td>\n",
       "      <td>0.0</td>\n",
       "      <td>0.0</td>\n",
       "      <td>0.0</td>\n",
       "      <td>0.0</td>\n",
       "      <td>0.0</td>\n",
       "      <td>0.0</td>\n",
       "      <td>0.0</td>\n",
       "      <td>0.0</td>\n",
       "      <td>1.0</td>\n",
       "      <td>0.0</td>\n",
       "      <td>0.0</td>\n",
       "      <td>0.0</td>\n",
       "      <td>0.0</td>\n",
       "      <td>0.0</td>\n",
       "      <td>0.0</td>\n",
       "      <td>0.0</td>\n",
       "      <td>0.0</td>\n",
       "      <td>0.0</td>\n",
       "      <td>0.0</td>\n",
       "      <td>0.0</td>\n",
       "      <td>0.0</td>\n",
       "      <td>0.0</td>\n",
       "      <td>0.0</td>\n",
       "      <td>0.0</td>\n",
       "      <td>1.0</td>\n",
       "      <td>0.0</td>\n",
       "      <td>0.0</td>\n",
       "      <td>0.0</td>\n",
       "      <td>0.0</td>\n",
       "      <td>0.0</td>\n",
       "      <td>0.0</td>\n",
       "      <td>1.0</td>\n",
       "      <td>0.0</td>\n",
       "      <td>0.0</td>\n",
       "      <td>0.0</td>\n",
       "      <td>0.0</td>\n",
       "      <td>0.0</td>\n",
       "      <td>0.0</td>\n",
       "      <td>0.0</td>\n",
       "      <td>1.0</td>\n",
       "      <td>0.0</td>\n",
       "      <td>0.0</td>\n",
       "      <td>0.0</td>\n",
       "      <td>0.0</td>\n",
       "      <td>0.0</td>\n",
       "      <td>1.0</td>\n",
       "    </tr>\n",
       "  </tbody>\n",
       "</table>\n",
       "<p>5 rows × 4306 columns</p>\n",
       "</div>"
      ],
      "text/plain": [
       "   CustomerID Churn  MonthlyRevenue  MonthlyMinutes  TotalRecurringCharge  DirectorAssistedCalls  OverageMinutes  RoamingCalls  PercChangeMinutes  PercChangeRevenues  DroppedCalls  BlockedCalls  UnansweredCalls  CustomerCareCalls  ThreewayCalls  ReceivedCalls  OutboundCalls  InboundCalls  PeakCallsInOut  OffPeakCallsInOut  DroppedBlockedCalls  CallForwardingCalls  CallWaitingCalls  MonthsInService  UniqueSubs  ActiveSubs  Handsets  HandsetModels  CurrentEquipmentDays  AgeHH1  AgeHH2  RetentionCalls  RetentionOffersAccepted  ReferralsMadeBySubscriber  IncomeGroup  AdjustmentsToCreditRating  MonthsInService_min  MonthsInService_max  MonthsInService_mean  sum_MonthsInService_UniqueSubs  diff_MonthsInService_UniqueSubs  ratio_MonthsInService_UniqueSubs  sum_MonthsInService_ActiveSubs  diff_MonthsInService_ActiveSubs  ratio_MonthsInService_ActiveSubs  sum_MonthsInService_RetentionCalls  diff_MonthsInService_RetentionCalls  ratio_MonthsInService_RetentionCalls  \\\n",
       "0     3000002   Yes           24.00           219.0                  22.0                   0.25             0.0           0.0             -157.0               -19.0           0.7           0.7              6.3                0.0            0.0           97.2            0.0           0.0            58.0               24.0                  1.3                  0.0               0.3               61           2           1       2.0            2.0                 361.0    62.0     0.0               1                        0                          0            4                          0                    6                   61             18.756264                              63                               59                              30.5                              62                               60                              61.0                                  62                                   60                                  61.0   \n",
       "1     3000010   Yes           16.99            10.0                  17.0                   0.00             0.0           0.0               -4.0                 0.0           0.3           0.0              2.7                0.0            0.0            0.0            0.0           0.0             5.0                1.0                  0.3                  0.0               0.0               58           1           1       2.0            1.0                1504.0    40.0    42.0               0                        0                          0            5                          0                    6                   61             18.756264                              59                               57                              58.0                              59                               57                              58.0                                  58                                   58                                   inf   \n",
       "2     3000014    No           38.00             8.0                  38.0                   0.00             0.0           0.0               -2.0                 0.0           0.0           0.0              0.0                0.0            0.0            0.4            0.3           0.0             1.3                3.7                  0.0                  0.0               0.0               60           1           1       1.0            1.0                1812.0    26.0    26.0               0                        0                          0            6                          0                    6                   61             18.756264                              61                               59                              60.0                              61                               59                              60.0                                  60                                   60                                   inf   \n",
       "3     3000022    No           82.28          1312.0                  75.0                   1.24             0.0           0.0              157.0                 8.1          52.0           7.7             76.0                4.3            1.3          200.3          370.3         147.0           555.7              303.7                 59.7                  0.0              22.7               59           2           2       9.0            4.0                 458.0    30.0     0.0               0                        0                          0            6                          0                    6                   61             18.756264                              61                               57                              29.5                              61                               57                              29.5                                  59                                   59                                   inf   \n",
       "4     3000026   Yes           17.14             0.0                  17.0                   0.00             0.0           0.0                0.0                -0.2           0.0           0.0              0.0                0.0            0.0            0.0            0.0           0.0             0.0                0.0                  0.0                  0.0               0.0               53           2           2       4.0            3.0                 852.0    46.0    54.0               0                        0                          0            9                          1                    6                   61             18.756264                              55                               51                              26.5                              55                               51                              26.5                                  53                                   53                                   inf   \n",
       "\n",
       "   sum_MonthsInService_RetentionOffersAccepted  diff_MonthsInService_RetentionOffersAccepted  ratio_MonthsInService_RetentionOffersAccepted  sum_MonthsInService_ReferralsMadeBySubscriber  diff_MonthsInService_ReferralsMadeBySubscriber  ratio_MonthsInService_ReferralsMadeBySubscriber  sum_MonthsInService_IncomeGroup  diff_MonthsInService_IncomeGroup  ratio_MonthsInService_IncomeGroup  sum_MonthsInService_AdjustmentsToCreditRating  diff_MonthsInService_AdjustmentsToCreditRating  ratio_MonthsInService_AdjustmentsToCreditRating  sum_MonthsInService_MonthlyRevenue  diff_MonthsInService_MonthlyRevenue  ratio_MonthsInService_MonthlyRevenue  sum_MonthsInService_MonthlyMinutes  diff_MonthsInService_MonthlyMinutes  ratio_MonthsInService_MonthlyMinutes  sum_MonthsInService_TotalRecurringCharge  diff_MonthsInService_TotalRecurringCharge  ratio_MonthsInService_TotalRecurringCharge  sum_MonthsInService_DirectorAssistedCalls  diff_MonthsInService_DirectorAssistedCalls  \\\n",
       "0                                           61                                            61                                            inf                                             61                                              61                                              inf                               65                                57                          15.250000                                             61                                              61                                              inf                               85.00                                37.00                              2.541667                               280.0                               -158.0                              0.278539                                      83.0                                       39.0                                    2.772727                                      61.25                                       60.75   \n",
       "1                                           58                                            58                                            inf                                             58                                              58                                              inf                               63                                53                          11.600000                                             58                                              58                                              inf                               74.99                                41.01                              3.413773                                68.0                                 48.0                              5.800000                                      75.0                                       41.0                                    3.411765                                      58.00                                       58.00   \n",
       "2                                           60                                            60                                            inf                                             60                                              60                                              inf                               66                                54                          10.000000                                             60                                              60                                              inf                               98.00                                22.00                              1.578947                                68.0                                 52.0                              7.500000                                      98.0                                       22.0                                    1.578947                                      60.00                                       60.00   \n",
       "3                                           59                                            59                                            inf                                             59                                              59                                              inf                               65                                53                           9.833333                                             59                                              59                                              inf                              141.28                               -23.28                              0.717064                              1371.0                              -1253.0                              0.044970                                     134.0                                      -16.0                                    0.786667                                      60.24                                       57.76   \n",
       "4                                           53                                            53                                            inf                                             53                                              53                                              inf                               62                                44                           5.888889                                             54                                              52                                             53.0                               70.14                                35.86                              3.092182                                53.0                                 53.0                                   inf                                      70.0                                       36.0                                    3.117647                                      53.00                                       53.00   \n",
       "\n",
       "   ratio_MonthsInService_DirectorAssistedCalls  sum_MonthsInService_OverageMinutes  diff_MonthsInService_OverageMinutes  ratio_MonthsInService_OverageMinutes  sum_MonthsInService_RoamingCalls  diff_MonthsInService_RoamingCalls  ratio_MonthsInService_RoamingCalls  sum_MonthsInService_PercChangeMinutes  diff_MonthsInService_PercChangeMinutes  ratio_MonthsInService_PercChangeMinutes  sum_MonthsInService_PercChangeRevenues  diff_MonthsInService_PercChangeRevenues  ratio_MonthsInService_PercChangeRevenues  sum_MonthsInService_DroppedCalls  diff_MonthsInService_DroppedCalls  ratio_MonthsInService_DroppedCalls  sum_MonthsInService_BlockedCalls  diff_MonthsInService_BlockedCalls  ratio_MonthsInService_BlockedCalls  sum_MonthsInService_UnansweredCalls  diff_MonthsInService_UnansweredCalls  ratio_MonthsInService_UnansweredCalls  sum_MonthsInService_CustomerCareCalls  diff_MonthsInService_CustomerCareCalls  ratio_MonthsInService_CustomerCareCalls  sum_MonthsInService_ThreewayCalls  \\\n",
       "0                                   244.000000                                61.0                                 61.0                                   inf                              61.0                               61.0                                 inf                                  -96.0                                   218.0                                -0.388535                                    42.0                                     80.0                                 -3.210526                              61.7                               60.3                           87.142857                              61.7                               60.3                           87.142857                                 67.3                                  54.7                               9.682540                                   61.0                                    61.0                                      inf                               61.0   \n",
       "1                                          inf                                58.0                                 58.0                                   inf                              58.0                               58.0                                 inf                                   54.0                                    62.0                               -14.500000                                    58.0                                     58.0                                       inf                              58.3                               57.7                          193.333333                              58.0                               58.0                                 inf                                 60.7                                  55.3                              21.481481                                   58.0                                    58.0                                      inf                               58.0   \n",
       "2                                          inf                                60.0                                 60.0                                   inf                              60.0                               60.0                                 inf                                   58.0                                    62.0                               -30.000000                                    60.0                                     60.0                                       inf                              60.0                               60.0                                 inf                              60.0                               60.0                                 inf                                 60.0                                  60.0                                    inf                                   60.0                                    60.0                                      inf                               60.0   \n",
       "3                                    47.580645                                59.0                                 59.0                                   inf                              59.0                               59.0                                 inf                                  216.0                                   -98.0                                 0.375796                                    67.1                                     50.9                                  7.283951                             111.0                                7.0                            1.134615                              66.7                               51.3                            7.662338                                135.0                                 -17.0                               0.776316                                   63.3                                    54.7                                 13.72093                               60.3   \n",
       "4                                          inf                                53.0                                 53.0                                   inf                              53.0                               53.0                                 inf                                   53.0                                    53.0                                      inf                                    52.8                                     53.2                               -265.000000                              53.0                               53.0                                 inf                              53.0                               53.0                                 inf                                 53.0                                  53.0                                    inf                                   53.0                                    53.0                                      inf                               53.0   \n",
       "\n",
       "   diff_MonthsInService_ThreewayCalls  ratio_MonthsInService_ThreewayCalls  sum_MonthsInService_ReceivedCalls  ...  ServiceArea_SFROAK510  ServiceArea_SFROAK925  ServiceArea_SFRPAL650  ServiceArea_SFRRCM510  ServiceArea_SFRROC916  ServiceArea_SFRSAC916  ServiceArea_SFRSCL408  ServiceArea_SFRSFR415  ServiceArea_SFRSFS650  ServiceArea_SFRSGS530  ServiceArea_SFRSMO650  ServiceArea_SFRSRO707  ServiceArea_SFRVAC707  ServiceArea_SFRWLC925  ServiceArea_SFRWOO530  ServiceArea_SFRWTV831  ServiceArea_SFURED530  ServiceArea_SFUSAC530  ServiceArea_SHECAR717  ServiceArea_SHECHA717  ServiceArea_SHEEDI540  ServiceArea_SHEFTR540  ServiceArea_SHEHAG301  ServiceArea_SHEHAR540  ServiceArea_SHEMAR304  ServiceArea_SHEMYE301  ServiceArea_SHEWIN540  ServiceArea_SHEYOR717  ServiceArea_SLCKAY801  ServiceArea_SLCOGD801  ServiceArea_SLCPRK435  ServiceArea_SLCPRO801  ServiceArea_SLCSLC801  ServiceArea_SLCTOO801  ServiceArea_SLUSTG435  ServiceArea_STLCHA636  ServiceArea_STLCHE636  ServiceArea_STLCMB573  \\\n",
       "0                                61.0                                  inf                              158.2  ...                    0.0                    0.0                    0.0                    0.0                    0.0                    0.0                    0.0                    0.0                    0.0                    0.0                    0.0                    0.0                    0.0                    0.0                    0.0                    0.0                    0.0                    0.0                    0.0                    0.0                    0.0                    0.0                    0.0                    0.0                    0.0                    0.0                    0.0                    0.0                    0.0                    0.0                    0.0                    0.0                    0.0                    0.0                    0.0                    0.0                    0.0                    0.0   \n",
       "1                                58.0                                  inf                               58.0  ...                    0.0                    0.0                    0.0                    0.0                    0.0                    0.0                    0.0                    0.0                    0.0                    0.0                    0.0                    0.0                    0.0                    0.0                    0.0                    0.0                    0.0                    0.0                    0.0                    0.0                    0.0                    0.0                    0.0                    0.0                    0.0                    0.0                    0.0                    0.0                    0.0                    0.0                    0.0                    0.0                    0.0                    0.0                    0.0                    0.0                    0.0                    0.0   \n",
       "2                                60.0                                  inf                               60.4  ...                    0.0                    0.0                    0.0                    0.0                    0.0                    0.0                    0.0                    0.0                    0.0                    0.0                    0.0                    0.0                    0.0                    0.0                    0.0                    0.0                    0.0                    0.0                    0.0                    0.0                    0.0                    0.0                    0.0                    0.0                    0.0                    0.0                    0.0                    0.0                    0.0                    0.0                    0.0                    0.0                    0.0                    0.0                    0.0                    0.0                    0.0                    0.0   \n",
       "3                                57.7                            45.384615                              259.3  ...                    0.0                    0.0                    0.0                    0.0                    0.0                    0.0                    0.0                    0.0                    0.0                    0.0                    0.0                    0.0                    0.0                    0.0                    0.0                    0.0                    0.0                    0.0                    0.0                    0.0                    0.0                    0.0                    0.0                    0.0                    0.0                    0.0                    0.0                    0.0                    0.0                    0.0                    0.0                    0.0                    0.0                    0.0                    0.0                    0.0                    0.0                    0.0   \n",
       "4                                53.0                                  inf                               53.0  ...                    0.0                    0.0                    0.0                    0.0                    0.0                    0.0                    0.0                    0.0                    0.0                    0.0                    0.0                    0.0                    0.0                    0.0                    0.0                    0.0                    0.0                    0.0                    0.0                    0.0                    0.0                    0.0                    0.0                    0.0                    0.0                    0.0                    0.0                    0.0                    0.0                    0.0                    0.0                    0.0                    0.0                    0.0                    0.0                    0.0                    0.0                    0.0   \n",
       "\n",
       "   ServiceArea_STLCOL618  ServiceArea_STLCPG573  ServiceArea_STLCRD618  ServiceArea_STLFUL573  ServiceArea_STLHNB573  ServiceArea_STLJEF573  ServiceArea_STLJOP417  ServiceArea_STLJOS816  ServiceArea_STLOZA573  ServiceArea_STLPIT316  ServiceArea_STLPRB573  ServiceArea_STLQUI217  ServiceArea_STLROL573  ServiceArea_STLSED660  ServiceArea_STLSPR417  ServiceArea_STLSTL314  ServiceArea_VAHCHL804  ServiceArea_VAHDAN804  ServiceArea_VAHLYN804  ServiceArea_VAHMTN540  ServiceArea_VAHRAD540  ServiceArea_VAHROA540  ServiceArea_VAHSTA540  ServiceArea_VAHWAY540  HandsetPrice_10  HandsetPrice_100  HandsetPrice_130  HandsetPrice_150  HandsetPrice_180  HandsetPrice_200  HandsetPrice_240  HandsetPrice_250  HandsetPrice_30  HandsetPrice_300  HandsetPrice_40  HandsetPrice_400  HandsetPrice_500  HandsetPrice_60  HandsetPrice_80  HandsetPrice_Unknown  CreditRating_1-Highest  CreditRating_2-High  CreditRating_3-Good  CreditRating_4-Medium  CreditRating_5-Low  CreditRating_6-VeryLow  CreditRating_7-Lowest  \\\n",
       "0                    0.0                    0.0                    0.0                    0.0                    0.0                    0.0                    0.0                    0.0                    0.0                    0.0                    0.0                    0.0                    0.0                    0.0                    0.0                    0.0                    0.0                    0.0                    0.0                    0.0                    0.0                    0.0                    0.0                    0.0              0.0               0.0               0.0               0.0               0.0               0.0               0.0               0.0              1.0               0.0              0.0               0.0               0.0              0.0              0.0                   0.0                     1.0                  0.0                  0.0                    0.0                 0.0                     0.0                    0.0   \n",
       "1                    0.0                    0.0                    0.0                    0.0                    0.0                    0.0                    0.0                    0.0                    0.0                    0.0                    0.0                    0.0                    0.0                    0.0                    0.0                    0.0                    0.0                    0.0                    0.0                    0.0                    0.0                    0.0                    0.0                    0.0              0.0               0.0               0.0               0.0               0.0               0.0               0.0               0.0              1.0               0.0              0.0               0.0               0.0              0.0              0.0                   0.0                     0.0                  0.0                  0.0                    1.0                 0.0                     0.0                    0.0   \n",
       "2                    0.0                    0.0                    0.0                    0.0                    0.0                    0.0                    0.0                    0.0                    0.0                    0.0                    0.0                    0.0                    0.0                    0.0                    0.0                    0.0                    0.0                    0.0                    0.0                    0.0                    0.0                    0.0                    0.0                    0.0              0.0               0.0               0.0               0.0               0.0               0.0               0.0               0.0              0.0               0.0              0.0               0.0               0.0              0.0              0.0                   1.0                     0.0                  0.0                  1.0                    0.0                 0.0                     0.0                    0.0   \n",
       "3                    0.0                    0.0                    0.0                    0.0                    0.0                    0.0                    0.0                    0.0                    0.0                    0.0                    0.0                    0.0                    0.0                    0.0                    0.0                    0.0                    0.0                    0.0                    0.0                    0.0                    0.0                    0.0                    0.0                    0.0              1.0               0.0               0.0               0.0               0.0               0.0               0.0               0.0              0.0               0.0              0.0               0.0               0.0              0.0              0.0                   0.0                     0.0                  0.0                  0.0                    1.0                 0.0                     0.0                    0.0   \n",
       "4                    0.0                    0.0                    0.0                    0.0                    0.0                    0.0                    0.0                    0.0                    0.0                    0.0                    0.0                    0.0                    0.0                    0.0                    0.0                    0.0                    0.0                    0.0                    0.0                    0.0                    0.0                    0.0                    0.0                    0.0              1.0               0.0               0.0               0.0               0.0               0.0               0.0               0.0              0.0               0.0              0.0               0.0               0.0              0.0              0.0                   0.0                     1.0                  0.0                  0.0                    0.0                 0.0                     0.0                    0.0   \n",
       "\n",
       "   PrizmCode_Other  PrizmCode_Rural  PrizmCode_Suburban  PrizmCode_Town  Occupation_Clerical  Occupation_Crafts  Occupation_Homemaker  Occupation_Other  Occupation_Professional  Occupation_Retired  Occupation_Self  Occupation_Student  MaritalStatus_No  MaritalStatus_Unknown  MaritalStatus_Yes  \n",
       "0              0.0              0.0                 1.0             0.0                  0.0                0.0                   0.0               0.0                      1.0                 0.0              0.0                 0.0               1.0                    0.0                0.0  \n",
       "1              0.0              0.0                 1.0             0.0                  0.0                0.0                   0.0               0.0                      1.0                 0.0              0.0                 0.0               0.0                    0.0                1.0  \n",
       "2              0.0              0.0                 0.0             1.0                  0.0                1.0                   0.0               0.0                      0.0                 0.0              0.0                 0.0               0.0                    0.0                1.0  \n",
       "3              1.0              0.0                 0.0             0.0                  0.0                0.0                   0.0               1.0                      0.0                 0.0              0.0                 0.0               1.0                    0.0                0.0  \n",
       "4              1.0              0.0                 0.0             0.0                  0.0                0.0                   0.0               0.0                      1.0                 0.0              0.0                 0.0               0.0                    0.0                1.0  \n",
       "\n",
       "[5 rows x 4306 columns]"
      ]
     },
     "execution_count": 52,
     "metadata": {},
     "output_type": "execute_result"
    }
   ],
   "source": [
    "pair_df.head()"
   ]
  },
  {
   "cell_type": "markdown",
   "metadata": {},
   "source": [
    "### <a id='3'>3. Modelling</a>"
   ]
  },
  {
   "cell_type": "markdown",
   "metadata": {},
   "source": [
    "### Encode labels and separate features and labels"
   ]
  },
  {
   "cell_type": "code",
   "execution_count": 53,
   "metadata": {},
   "outputs": [],
   "source": [
    "le = LabelEncoder()"
   ]
  },
  {
   "cell_type": "code",
   "execution_count": 54,
   "metadata": {},
   "outputs": [],
   "source": [
    "lab = le.fit_transform(pair_df.Churn).astype(np.float64)"
   ]
  },
  {
   "cell_type": "code",
   "execution_count": 55,
   "metadata": {},
   "outputs": [],
   "source": [
    "l = pd.DataFrame({'lbls':pair_df.Churn, 'l_tr':lab})"
   ]
  },
  {
   "cell_type": "code",
   "execution_count": 56,
   "metadata": {},
   "outputs": [
    {
     "data": {
      "text/html": [
       "<div>\n",
       "<style scoped>\n",
       "    .dataframe tbody tr th:only-of-type {\n",
       "        vertical-align: middle;\n",
       "    }\n",
       "\n",
       "    .dataframe tbody tr th {\n",
       "        vertical-align: top;\n",
       "    }\n",
       "\n",
       "    .dataframe thead th {\n",
       "        text-align: right;\n",
       "    }\n",
       "</style>\n",
       "<table border=\"1\" class=\"dataframe\">\n",
       "  <thead>\n",
       "    <tr style=\"text-align: right;\">\n",
       "      <th></th>\n",
       "      <th>lbls</th>\n",
       "      <th>l_tr</th>\n",
       "    </tr>\n",
       "  </thead>\n",
       "  <tbody>\n",
       "    <tr>\n",
       "      <td>0</td>\n",
       "      <td>Yes</td>\n",
       "      <td>1.0</td>\n",
       "    </tr>\n",
       "    <tr>\n",
       "      <td>1</td>\n",
       "      <td>Yes</td>\n",
       "      <td>1.0</td>\n",
       "    </tr>\n",
       "    <tr>\n",
       "      <td>2</td>\n",
       "      <td>No</td>\n",
       "      <td>0.0</td>\n",
       "    </tr>\n",
       "    <tr>\n",
       "      <td>3</td>\n",
       "      <td>No</td>\n",
       "      <td>0.0</td>\n",
       "    </tr>\n",
       "    <tr>\n",
       "      <td>4</td>\n",
       "      <td>Yes</td>\n",
       "      <td>1.0</td>\n",
       "    </tr>\n",
       "  </tbody>\n",
       "</table>\n",
       "</div>"
      ],
      "text/plain": [
       "  lbls  l_tr\n",
       "0  Yes   1.0\n",
       "1  Yes   1.0\n",
       "2   No   0.0\n",
       "3   No   0.0\n",
       "4  Yes   1.0"
      ]
     },
     "execution_count": 56,
     "metadata": {},
     "output_type": "execute_result"
    }
   ],
   "source": [
    "l.head()"
   ]
  },
  {
   "cell_type": "markdown",
   "metadata": {},
   "source": [
    "> 1 - customers who have churned\n",
    "\n",
    "> 0 - customers retained"
   ]
  },
  {
   "cell_type": "code",
   "execution_count": 57,
   "metadata": {},
   "outputs": [],
   "source": [
    "feats = pair_df.iloc[:,2:]"
   ]
  },
  {
   "cell_type": "markdown",
   "metadata": {},
   "source": [
    "### Split for train test"
   ]
  },
  {
   "cell_type": "code",
   "execution_count": 58,
   "metadata": {},
   "outputs": [],
   "source": [
    "x_train, x_test, y_train, y_test = train_test_split(feats, lab, test_size = .25, random_state = 7)"
   ]
  },
  {
   "cell_type": "markdown",
   "metadata": {},
   "source": [
    "### Split train for train and eval"
   ]
  },
  {
   "cell_type": "code",
   "execution_count": 59,
   "metadata": {},
   "outputs": [],
   "source": [
    "x_tr, x_ev, y_tr, y_ev = train_test_split(x_train, y_train, test_size = .05, random_state = 7)"
   ]
  },
  {
   "cell_type": "code",
   "execution_count": 60,
   "metadata": {},
   "outputs": [
    {
     "data": {
      "text/plain": [
       "((36370, 4304), (1915, 4304), dtype('float64'), dtype('float64'))"
      ]
     },
     "execution_count": 60,
     "metadata": {},
     "output_type": "execute_result"
    }
   ],
   "source": [
    "x_tr.shape, x_ev.shape, y_tr.dtype, y_ev.dtype"
   ]
  },
  {
   "cell_type": "code",
   "execution_count": 61,
   "metadata": {},
   "outputs": [],
   "source": [
    "train_data = lgbm.Dataset(data=x_tr, label=y_tr)\n",
    "val_data = lgbm.Dataset(data=x_ev, label=y_ev)"
   ]
  },
  {
   "cell_type": "markdown",
   "metadata": {},
   "source": [
    "### Model params"
   ]
  },
  {
   "cell_type": "code",
   "execution_count": 62,
   "metadata": {},
   "outputs": [],
   "source": [
    "# tuning copied from https://www.kaggle.com/avanwyk/a-lightgbm-overview\n",
    "# Note that there is no param search here, as this is meant to be a base line model.\n",
    "\n",
    "advanced_params = {\n",
    "    'boosting_type': 'gbdt',\n",
    "    'objective': 'binary',\n",
    "    'metric': 'auc',\n",
    "    \n",
    "    'learning_rate': 0.1,\n",
    "    'num_leaves': 141, # more leaves increases accuracy, but may lead to overfitting.\n",
    "    \n",
    "    'max_depth': 7, # the maximum tree depth. Shallower trees reduce overfitting.\n",
    "    'min_split_gain': 0, # minimal loss gain to perform a split\n",
    "    'min_child_samples': 21, # or min_data_in_leaf: specifies the minimum samples per leaf node.\n",
    "    'min_child_weight': 5, # minimal sum hessian in one leaf. Controls overfitting.\n",
    "    \n",
    "    'lambda_l1': 0.5, # L1 regularization\n",
    "    'lambda_l2': 0.5, # L2 regularization\n",
    "    \n",
    "    'feature_fraction': 0.7, # randomly select a fraction of the features before building each tree.\n",
    "    # Speeds up training and controls overfitting.\n",
    "    'bagging_fraction': 0.5, # allows for bagging or subsampling of data to speed up training.\n",
    "    'bagging_freq': 0, # perform bagging on every Kth iteration, disabled if 0.\n",
    "    \n",
    "    'scale_pos_weight': 99, # add a weight to the positive class examples (compensates for imbalance).\n",
    "    \n",
    "    'subsample_for_bin': 200000, # amount of data to sample to determine histogram bins\n",
    "    'max_bin': 1000, # the maximum number of bins to bucket feature values in.\n",
    "    # LightGBM autocompresses memory based on this value. Larger bins improves accuracy.\n",
    "    \n",
    "    'nthread': 4, # number of threads to use for LightGBM, best set to number of actual cores.\n",
    "}"
   ]
  },
  {
   "cell_type": "markdown",
   "metadata": {},
   "source": [
    "### Model train"
   ]
  },
  {
   "cell_type": "code",
   "execution_count": 63,
   "metadata": {},
   "outputs": [],
   "source": [
    "# train function from https://www.kaggle.com/avanwyk/a-lightgbm-overview\n",
    "def train_gbm(params, training_set, validation_set, init_gbm=None, boost_rounds=100, early_stopping_rounds=0, metric='auc'):\n",
    "    evals_result = {} \n",
    "\n",
    "    gbm = lgbm.train(params, # parameter dict to use\n",
    "                    training_set,\n",
    "                    init_model=init_gbm, # initial model to use, for continuous training.\n",
    "                    num_boost_round=boost_rounds, # the boosting rounds or number of iterations.\n",
    "                    early_stopping_rounds=early_stopping_rounds, # early stopping iterations.\n",
    "                    # stop training if *no* metric improves on *any* validation data.\n",
    "                    valid_sets=validation_set,\n",
    "                    evals_result=evals_result, # dict to store evaluation results in.\n",
    "                    verbose_eval=True) # print evaluations during training.\n",
    "    \n",
    "    return gbm, evals_result"
   ]
  },
  {
   "cell_type": "code",
   "execution_count": 64,
   "metadata": {},
   "outputs": [
    {
     "name": "stdout",
     "output_type": "stream",
     "text": [
      "[1]\tvalid_0's auc: 0.61376\n",
      "Training until validation scores don't improve for 50 rounds.\n",
      "[2]\tvalid_0's auc: 0.632222\n",
      "[3]\tvalid_0's auc: 0.646331\n",
      "[4]\tvalid_0's auc: 0.653136\n",
      "[5]\tvalid_0's auc: 0.648324\n",
      "[6]\tvalid_0's auc: 0.646411\n",
      "[7]\tvalid_0's auc: 0.648468\n",
      "[8]\tvalid_0's auc: 0.647772\n",
      "[9]\tvalid_0's auc: 0.647437\n",
      "[10]\tvalid_0's auc: 0.646168\n",
      "[11]\tvalid_0's auc: 0.648646\n",
      "[12]\tvalid_0's auc: 0.646539\n",
      "[13]\tvalid_0's auc: 0.645688\n",
      "[14]\tvalid_0's auc: 0.64783\n",
      "[15]\tvalid_0's auc: 0.646709\n",
      "[16]\tvalid_0's auc: 0.646357\n",
      "[17]\tvalid_0's auc: 0.649667\n",
      "[18]\tvalid_0's auc: 0.649164\n",
      "[19]\tvalid_0's auc: 0.651016\n",
      "[20]\tvalid_0's auc: 0.650758\n",
      "[21]\tvalid_0's auc: 0.650726\n",
      "[22]\tvalid_0's auc: 0.652341\n",
      "[23]\tvalid_0's auc: 0.651558\n",
      "[24]\tvalid_0's auc: 0.651431\n",
      "[25]\tvalid_0's auc: 0.651741\n",
      "[26]\tvalid_0's auc: 0.652336\n",
      "[27]\tvalid_0's auc: 0.653764\n",
      "[28]\tvalid_0's auc: 0.653603\n",
      "[29]\tvalid_0's auc: 0.653107\n",
      "[30]\tvalid_0's auc: 0.653044\n",
      "[31]\tvalid_0's auc: 0.654391\n",
      "[32]\tvalid_0's auc: 0.655869\n",
      "[33]\tvalid_0's auc: 0.65567\n",
      "[34]\tvalid_0's auc: 0.655679\n",
      "[35]\tvalid_0's auc: 0.655633\n",
      "[36]\tvalid_0's auc: 0.656503\n",
      "[37]\tvalid_0's auc: 0.653046\n",
      "[38]\tvalid_0's auc: 0.652452\n",
      "[39]\tvalid_0's auc: 0.651744\n",
      "[40]\tvalid_0's auc: 0.653306\n",
      "[41]\tvalid_0's auc: 0.655169\n",
      "[42]\tvalid_0's auc: 0.652851\n",
      "[43]\tvalid_0's auc: 0.652821\n",
      "[44]\tvalid_0's auc: 0.6528\n",
      "[45]\tvalid_0's auc: 0.65441\n",
      "[46]\tvalid_0's auc: 0.651994\n",
      "[47]\tvalid_0's auc: 0.653306\n",
      "[48]\tvalid_0's auc: 0.652753\n",
      "[49]\tvalid_0's auc: 0.653629\n",
      "[50]\tvalid_0's auc: 0.654895\n",
      "[51]\tvalid_0's auc: 0.655855\n",
      "[52]\tvalid_0's auc: 0.657254\n",
      "[53]\tvalid_0's auc: 0.657603\n",
      "[54]\tvalid_0's auc: 0.658987\n",
      "[55]\tvalid_0's auc: 0.659007\n",
      "[56]\tvalid_0's auc: 0.660335\n",
      "[57]\tvalid_0's auc: 0.659362\n",
      "[58]\tvalid_0's auc: 0.658262\n",
      "[59]\tvalid_0's auc: 0.65816\n",
      "[60]\tvalid_0's auc: 0.658348\n",
      "[61]\tvalid_0's auc: 0.656461\n",
      "[62]\tvalid_0's auc: 0.656057\n",
      "[63]\tvalid_0's auc: 0.657907\n",
      "[64]\tvalid_0's auc: 0.655783\n",
      "[65]\tvalid_0's auc: 0.656254\n",
      "[66]\tvalid_0's auc: 0.655462\n",
      "[67]\tvalid_0's auc: 0.656373\n",
      "[68]\tvalid_0's auc: 0.657864\n",
      "[69]\tvalid_0's auc: 0.658259\n",
      "[70]\tvalid_0's auc: 0.658322\n",
      "[71]\tvalid_0's auc: 0.657739\n",
      "[72]\tvalid_0's auc: 0.657764\n",
      "[73]\tvalid_0's auc: 0.657245\n",
      "[74]\tvalid_0's auc: 0.657829\n",
      "[75]\tvalid_0's auc: 0.658089\n",
      "[76]\tvalid_0's auc: 0.658959\n",
      "[77]\tvalid_0's auc: 0.658756\n",
      "[78]\tvalid_0's auc: 0.656361\n",
      "[79]\tvalid_0's auc: 0.656688\n",
      "[80]\tvalid_0's auc: 0.656571\n",
      "[81]\tvalid_0's auc: 0.656477\n",
      "[82]\tvalid_0's auc: 0.656597\n",
      "[83]\tvalid_0's auc: 0.656594\n",
      "[84]\tvalid_0's auc: 0.657302\n",
      "[85]\tvalid_0's auc: 0.656397\n",
      "[86]\tvalid_0's auc: 0.655764\n",
      "[87]\tvalid_0's auc: 0.655592\n",
      "[88]\tvalid_0's auc: 0.655135\n",
      "[89]\tvalid_0's auc: 0.654609\n",
      "[90]\tvalid_0's auc: 0.654262\n",
      "[91]\tvalid_0's auc: 0.654961\n",
      "[92]\tvalid_0's auc: 0.654364\n",
      "[93]\tvalid_0's auc: 0.652978\n",
      "[94]\tvalid_0's auc: 0.652634\n",
      "[95]\tvalid_0's auc: 0.653158\n",
      "[96]\tvalid_0's auc: 0.65429\n",
      "[97]\tvalid_0's auc: 0.652594\n",
      "[98]\tvalid_0's auc: 0.652426\n",
      "[99]\tvalid_0's auc: 0.652809\n",
      "[100]\tvalid_0's auc: 0.653199\n",
      "[101]\tvalid_0's auc: 0.653082\n",
      "[102]\tvalid_0's auc: 0.652858\n",
      "[103]\tvalid_0's auc: 0.653165\n",
      "[104]\tvalid_0's auc: 0.653344\n",
      "[105]\tvalid_0's auc: 0.65243\n",
      "[106]\tvalid_0's auc: 0.652397\n",
      "Early stopping, best iteration is:\n",
      "[56]\tvalid_0's auc: 0.660335\n"
     ]
    }
   ],
   "source": [
    "gbm, evals_result = train_gbm(advanced_params, training_set=train_data, validation_set=val_data,\n",
    "                             boost_rounds=1000, early_stopping_rounds=50)"
   ]
  },
  {
   "cell_type": "code",
   "execution_count": 65,
   "metadata": {},
   "outputs": [],
   "source": [
    "y_hat = gbm.predict(x_test)"
   ]
  },
  {
   "cell_type": "markdown",
   "metadata": {},
   "source": [
    "### <a id='3.1'>3.1. Analysing and transforming results</a>"
   ]
  },
  {
   "cell_type": "code",
   "execution_count": 66,
   "metadata": {},
   "outputs": [],
   "source": [
    "test_res = pd.DataFrame({'y_true':y_test, 'y_hat':y_hat})"
   ]
  },
  {
   "cell_type": "code",
   "execution_count": 67,
   "metadata": {},
   "outputs": [
    {
     "data": {
      "text/plain": [
       "((9100,), (3662,))"
      ]
     },
     "execution_count": 67,
     "metadata": {},
     "output_type": "execute_result"
    }
   ],
   "source": [
    "test_res.y_hat[test_res.y_true == 0].shape, test_res.y_hat[test_res.y_true == 1].shape"
   ]
  },
  {
   "cell_type": "code",
   "execution_count": 68,
   "metadata": {},
   "outputs": [
    {
     "data": {
      "text/plain": [
       "0.6578284850048913"
      ]
     },
     "execution_count": 68,
     "metadata": {},
     "output_type": "execute_result"
    }
   ],
   "source": [
    "roc_auc_score(test_res.y_true, test_res.y_hat)"
   ]
  },
  {
   "cell_type": "code",
   "execution_count": 69,
   "metadata": {},
   "outputs": [
    {
     "data": {
      "text/plain": [
       "count    9100.000000\n",
       "mean        0.913424\n",
       "std         0.142168\n",
       "min         0.005509\n",
       "25%         0.927423\n",
       "50%         0.964532\n",
       "75%         0.975888\n",
       "max         0.993614\n",
       "Name: y_hat, dtype: float64"
      ]
     },
     "execution_count": 69,
     "metadata": {},
     "output_type": "execute_result"
    }
   ],
   "source": [
    "test_res.y_hat[test_res.y_true == 0].describe()"
   ]
  },
  {
   "cell_type": "code",
   "execution_count": 70,
   "metadata": {},
   "outputs": [
    {
     "data": {
      "text/plain": [
       "count    3662.000000\n",
       "mean        0.951760\n",
       "std         0.088543\n",
       "min         0.011071\n",
       "25%         0.960658\n",
       "50%         0.974685\n",
       "75%         0.980713\n",
       "max         0.994273\n",
       "Name: y_hat, dtype: float64"
      ]
     },
     "execution_count": 70,
     "metadata": {},
     "output_type": "execute_result"
    }
   ],
   "source": [
    "test_res.y_hat[test_res.y_true == 1].describe()"
   ]
  },
  {
   "cell_type": "code",
   "execution_count": 71,
   "metadata": {},
   "outputs": [],
   "source": [
    "def plot_distro(df, col = '', fiter_col = '', y_limit=None, x_limit_r=None, x_limit_l = None):\n",
    "    plt.figure(figsize=(10,10))\n",
    "    plt.grid(True)\n",
    "    sns.distplot(df[col][df[fiter_col] == 1])\n",
    "    sns.distplot(df[col][df[fiter_col] == 0])\n",
    "    plt.legend(['churn_flag_yes', 'churn_flag_no'])\n",
    "    if y_limit:\n",
    "        plt.ylim(top=y_limit)\n",
    "    if x_limit_r:\n",
    "        plt.xlim(right=x_limit_r)\n",
    "    if x_limit_l:\n",
    "        plt.xlim(left=x_limit_l)"
   ]
  },
  {
   "cell_type": "code",
   "execution_count": 72,
   "metadata": {},
   "outputs": [
    {
     "data": {
      "image/png": "[encoded data removed]",
      "text/plain": [
       "<Figure size 720x720 with 1 Axes>"
      ]
     },
     "metadata": {
      "needs_background": "light"
     },
     "output_type": "display_data"
    }
   ],
   "source": [
    "plot_distro(test_res, col = 'y_hat', fiter_col = 'y_true', y_limit=None, x_limit_r=None, x_limit_l = .8)"
   ]
  },
  {
   "cell_type": "markdown",
   "metadata": {},
   "source": [
    "### Let's transform the results to separate two distributions as far as possible"
   ]
  },
  {
   "cell_type": "markdown",
   "metadata": {},
   "source": [
    "### <a id='3.2'>3.2. Threshold selection</a>"
   ]
  },
  {
   "cell_type": "code",
   "execution_count": 73,
   "metadata": {},
   "outputs": [
    {
     "data": {
      "text/plain": [
       "<matplotlib.legend.Legend at 0x1aa9d39f748>"
      ]
     },
     "execution_count": 73,
     "metadata": {},
     "output_type": "execute_result"
    },
    {
     "data": {
      "image/png": "[encoded data removed]",
      "text/plain": [
       "<Figure size 720x720 with 1 Axes>"
      ]
     },
     "metadata": {
      "needs_background": "light"
     },
     "output_type": "display_data"
    }
   ],
   "source": [
    "plt.figure(figsize=(10,10))\n",
    "plt.grid(True)\n",
    "sns.distplot(np.exp(test_res.y_hat[test_res.y_true == 0]), color='green')\n",
    "sns.distplot(np.exp(test_res.y_hat[test_res.y_true == 1]), color='red')\n",
    "plt.title('Distribution of the results, for two classes')\n",
    "plt.legend(['no_churn', 'churn'])"
   ]
  },
  {
   "cell_type": "code",
   "execution_count": 74,
   "metadata": {},
   "outputs": [
    {
     "data": {
      "text/plain": [
       "<matplotlib.legend.Legend at 0x1aa9aa0bf60>"
      ]
     },
     "execution_count": 74,
     "metadata": {},
     "output_type": "execute_result"
    },
    {
     "data": {
      "image/png": "[encoded data removed]",
      "text/plain": [
       "<Figure size 864x864 with 1 Axes>"
      ]
     },
     "metadata": {
      "needs_background": "light"
     },
     "output_type": "display_data"
    }
   ],
   "source": [
    "plt.figure(figsize=(12,12))\n",
    "plt.grid(True)\n",
    "sns.distplot(1/np.log(test_res.y_hat[test_res.y_true == 0]), color='green')\n",
    "sns.distplot(1/np.log(test_res.y_hat[test_res.y_true == 1]), color='red')\n",
    "plt.plot([-36.3, -36.3], [0, 0.024], 'bo--', linewidth=2.5)\n",
    "plt.plot([-45, -45], [0, 0.024], 'go--', linewidth=2.5)\n",
    "plt.title('Distribution of the results, for two classes with upper thresholds')\n",
    "\n",
    "plt.legend(['best_auc_threshold','threshold_business', 'no_churn', 'churn'])"
   ]
  },
  {
   "cell_type": "markdown",
   "metadata": {},
   "source": [
    "### Now we can investigate how to select the threshold for setting churn flag = 1\n",
    "### Above plot implies that there's no perfect separation, as this is always the case in real life\n",
    "### Therefore, we have to look for so called 'swee tspot' where we maximise impact of the model\n",
    "### In the industry treshold is usually determined by business who uses model\n",
    "### In Kaggle we're looking for best AUC threshold, if that's the metric on leader board\n",
    "### I will focus on business case here. You all know how to do it the other way ;)\n",
    "#### from below descriptive stats we could start at -39"
   ]
  },
  {
   "cell_type": "code",
   "execution_count": 75,
   "metadata": {},
   "outputs": [
    {
     "data": {
      "text/plain": [
       "count      0.000273\n",
       "mean     -16.926877\n",
       "std        5.490489\n",
       "min       -0.222053\n",
       "25%      -24.914509\n",
       "50%      -38.999845\n",
       "75%      -51.347636\n",
       "max     -174.116712\n",
       "Name: y_hat, dtype: float64"
      ]
     },
     "execution_count": 75,
     "metadata": {},
     "output_type": "execute_result"
    }
   ],
   "source": [
    "1/np.log(test_res['y_hat'][test_res['y_true'] == 1]).describe()"
   ]
  },
  {
   "cell_type": "markdown",
   "metadata": {},
   "source": [
    "### Transform results accordingly"
   ]
  },
  {
   "cell_type": "code",
   "execution_count": 76,
   "metadata": {},
   "outputs": [],
   "source": [
    "test_res['y_transformed'] = 1/np.log(test_res['y_hat'])"
   ]
  },
  {
   "cell_type": "code",
   "execution_count": 77,
   "metadata": {},
   "outputs": [],
   "source": [
    "def plot_roc_curve(test_res, threshold = -39):\n",
    "    ns_probs = [0 for _ in range(len(test_res))]\n",
    "    fpr, tpr, threshold = roc_curve(test_res.y_true, np.where(test_res.y_transformed < threshold, 1, 0))\n",
    "    _fpr_, _tpr_, _threshold_ = roc_curve(test_res.y_true, ns_probs)\n",
    "    roc_auc = auc(fpr, tpr)\n",
    "    plt.figure(figsize=(10,10))\n",
    "    plt.grid(True)\n",
    "    plt.title(\"ROC Curve. Area under Curve: {:.3f}\".format(roc_auc))\n",
    "    plt.xlabel('False Positive Rate')\n",
    "    plt.ylabel('True Positive Rate')\n",
    "    _ = plt.plot(fpr, tpr, 'r')\n",
    "    __ = plt.plot(_fpr_, _tpr_, 'b', ls = '--' )"
   ]
  },
  {
   "cell_type": "code",
   "execution_count": 78,
   "metadata": {},
   "outputs": [
    {
     "data": {
      "image/png": "[encoded data removed]",
      "text/plain": [
       "<Figure size 720x720 with 1 Axes>"
      ]
     },
     "metadata": {
      "needs_background": "light"
     },
     "output_type": "display_data"
    }
   ],
   "source": [
    "plot_roc_curve(test_res, -36.3)"
   ]
  },
  {
   "cell_type": "code",
   "execution_count": 79,
   "metadata": {},
   "outputs": [
    {
     "data": {
      "image/png": "[encoded data removed]",
      "text/plain": [
       "<Figure size 720x720 with 1 Axes>"
      ]
     },
     "metadata": {
      "needs_background": "light"
     },
     "output_type": "display_data"
    }
   ],
   "source": [
    "plot_roc_curve(test_res, -45)"
   ]
  },
  {
   "cell_type": "markdown",
   "metadata": {},
   "source": [
    "### <a id='4'>4. The consequences of our model</a>"
   ]
  },
  {
   "cell_type": "markdown",
   "metadata": {},
   "source": [
    "### Each model deployed in production or considered for deployment has its consequences. Rarely spoken in ML literature in these terms. As we, Data Scientists, tend to talk in True Positive, True Negatives, False Positives, False Negatives terms. We need to bring these terms to business in their jargon, especially to be able to explain the impact and put Dollar figure on top of the results. In my experience the simpler these terms are the more successful you will be with productionizing the model, that's what we aim for, right?\n",
    "### So, here we will focus a bit on how business see this problem and what we Data Scientist might do to maximise chance of success"
   ]
  },
  {
   "cell_type": "code",
   "execution_count": 80,
   "metadata": {},
   "outputs": [
    {
     "data": {
      "text/plain": [
       "0       -17.548846\n",
       "1        -6.225876\n",
       "2       -15.476352\n",
       "3       -35.154334\n",
       "4       -37.370708\n",
       "           ...    \n",
       "12757   -31.141347\n",
       "12758    -6.917583\n",
       "12759   -38.530766\n",
       "12760    -1.775361\n",
       "12761   -27.085954\n",
       "Name: y_transformed, Length: 12762, dtype: float64"
      ]
     },
     "execution_count": 80,
     "metadata": {},
     "output_type": "execute_result"
    }
   ],
   "source": [
    "test_res.y_transformed"
   ]
  },
  {
   "cell_type": "markdown",
   "metadata": {},
   "source": [
    "### Here we'll look at confusion matrices, where we can see how change in the threshold impacts the results. Having the results in this form we have one foot in the door. But still we need more explanation.\n",
    "\n",
    "### So, here is a little bit of industry context. Most of the companies these days have models that have customer retention as a main goal. These models are run by Marketing teams or CVM teams (Customer Value Management) or perhaps some other function. As Data Scientist you need to gain their trust. They won't buy in to Blackbox solution right away i.e. Deep Learning model, they will have to understand what's going on, under the hood. This we can achieve in multiple ways, some examples:\n",
    "> Feature importance that make sense to the business, tree-based models are good for that, but sometimes results are funny\n",
    "\n",
    "> Confusion matrix explanation and business impact of the model"
   ]
  },
  {
   "cell_type": "markdown",
   "metadata": {},
   "source": [
    "### <a id='4.1'>4.1 Feature Importance</a> "
   ]
  },
  {
   "cell_type": "code",
   "execution_count": 81,
   "metadata": {},
   "outputs": [
    {
     "data": {
      "text/plain": [
       "<matplotlib.axes._subplots.AxesSubplot at 0x1aa9cdd28d0>"
      ]
     },
     "execution_count": 81,
     "metadata": {},
     "output_type": "execute_result"
    },
    {
     "data": {
      "image/png": "[encoded data removed]",
      "text/plain": [
       "<Figure size 720x864 with 1 Axes>"
      ]
     },
     "metadata": {
      "needs_background": "light"
     },
     "output_type": "display_data"
    }
   ],
   "source": [
    "lgbm.plot_importance(gbm, figsize=(10,12), max_num_features=15,importance_type='split' )"
   ]
  },
  {
   "cell_type": "code",
   "execution_count": 82,
   "metadata": {},
   "outputs": [
    {
     "data": {
      "text/plain": [
       "<matplotlib.axes._subplots.AxesSubplot at 0x1aa9cd81b70>"
      ]
     },
     "execution_count": 82,
     "metadata": {},
     "output_type": "execute_result"
    },
    {
     "data": {
      "image/png": "[encoded data removed]",
      "text/plain": [
       "<Figure size 720x864 with 1 Axes>"
      ]
     },
     "metadata": {
      "needs_background": "light"
     },
     "output_type": "display_data"
    }
   ],
   "source": [
    "lgbm.plot_importance(gbm, figsize=(10,12), max_num_features=15,importance_type='gain' )"
   ]
  },
  {
   "cell_type": "markdown",
   "metadata": {},
   "source": [
    "### From above feature importance plots, we see that almost all most important features are engineered."
   ]
  },
  {
   "cell_type": "markdown",
   "metadata": {},
   "source": [
    "### <a id='4.2'>4.2 Unconfusing confusion matrices</a>"
   ]
  },
  {
   "cell_type": "code",
   "execution_count": 83,
   "metadata": {},
   "outputs": [],
   "source": [
    "def plot_conf_mat(cm):\n",
    "    \"\"\"\n",
    "    Helper function to plot confusion matrix.\n",
    "    With text centerred.\n",
    "    \"\"\"\n",
    "    plt.figure(figsize=(8,8))\n",
    "    ax = sns.heatmap(cm, annot=True,fmt=\"d\",annot_kws={\"size\": 16})\n",
    "    bottom, top = ax.get_ylim()\n",
    "    ax.set_ylim(bottom + 0.5, top - 0.5)"
   ]
  },
  {
   "cell_type": "markdown",
   "metadata": {},
   "source": [
    "### Here we visualise matrices. \n",
    "> First from auc view point\n",
    "\n",
    "> Second what I call business view point"
   ]
  },
  {
   "cell_type": "code",
   "execution_count": 84,
   "metadata": {},
   "outputs": [],
   "source": [
    "# AUC\n",
    "cm_auc = confusion_matrix(test_res.y_true, np.where(test_res.y_transformed < -36.3, 1, 0), labels=[0, 1])"
   ]
  },
  {
   "cell_type": "code",
   "execution_count": 85,
   "metadata": {},
   "outputs": [
    {
     "data": {
      "image/png": "[encoded data removed]",
      "text/plain": [
       "<Figure size 576x576 with 2 Axes>"
      ]
     },
     "metadata": {
      "needs_background": "light"
     },
     "output_type": "display_data"
    }
   ],
   "source": [
    "plot_conf_mat(cm_auc)"
   ]
  },
  {
   "cell_type": "code",
   "execution_count": 86,
   "metadata": {},
   "outputs": [],
   "source": [
    "# Business\n",
    "cm_bus = confusion_matrix(test_res.y_true, np.where(test_res.y_transformed < -43, 1, 0), labels=[0, 1])"
   ]
  },
  {
   "cell_type": "code",
   "execution_count": 87,
   "metadata": {},
   "outputs": [
    {
     "data": {
      "image/png": "[encoded data removed]",
      "text/plain": [
       "<Figure size 576x576 with 2 Axes>"
      ]
     },
     "metadata": {
      "needs_background": "light"
     },
     "output_type": "display_data"
    }
   ],
   "source": [
    "plot_conf_mat(cm_bus)"
   ]
  },
  {
   "cell_type": "code",
   "execution_count": 88,
   "metadata": {},
   "outputs": [
    {
     "data": {
      "text/plain": [
       "0.0    9100\n",
       "1.0    3662\n",
       "Name: y_true, dtype: int64"
      ]
     },
     "execution_count": 88,
     "metadata": {},
     "output_type": "execute_result"
    }
   ],
   "source": [
    "# Our testing population\n",
    "test_res.y_true.value_counts()"
   ]
  },
  {
   "cell_type": "markdown",
   "metadata": {},
   "source": [
    "### <a id='4.3'>4.3 Campaigning the model</a>"
   ]
  },
  {
   "cell_type": "markdown",
   "metadata": {},
   "source": [
    "### So now, let's see how the model would be campaigned, and what would be an impact of the model"
   ]
  },
  {
   "cell_type": "code",
   "execution_count": 89,
   "metadata": {},
   "outputs": [
    {
     "data": {
      "text/html": [
       "<div>\n",
       "<style scoped>\n",
       "    .dataframe tbody tr th:only-of-type {\n",
       "        vertical-align: middle;\n",
       "    }\n",
       "\n",
       "    .dataframe tbody tr th {\n",
       "        vertical-align: top;\n",
       "    }\n",
       "\n",
       "    .dataframe thead th {\n",
       "        text-align: right;\n",
       "    }\n",
       "</style>\n",
       "<table border=\"1\" class=\"dataframe\">\n",
       "  <thead>\n",
       "    <tr style=\"text-align: right;\">\n",
       "      <th></th>\n",
       "      <th>y_true</th>\n",
       "      <th>y_hat</th>\n",
       "      <th>y_transformed</th>\n",
       "    </tr>\n",
       "  </thead>\n",
       "  <tbody>\n",
       "    <tr>\n",
       "      <td>0</td>\n",
       "      <td>0.0</td>\n",
       "      <td>0.944609</td>\n",
       "      <td>-17.548846</td>\n",
       "    </tr>\n",
       "    <tr>\n",
       "      <td>1</td>\n",
       "      <td>0.0</td>\n",
       "      <td>0.851616</td>\n",
       "      <td>-6.225876</td>\n",
       "    </tr>\n",
       "    <tr>\n",
       "      <td>2</td>\n",
       "      <td>0.0</td>\n",
       "      <td>0.937429</td>\n",
       "      <td>-15.476352</td>\n",
       "    </tr>\n",
       "    <tr>\n",
       "      <td>3</td>\n",
       "      <td>0.0</td>\n",
       "      <td>0.971955</td>\n",
       "      <td>-35.154334</td>\n",
       "    </tr>\n",
       "    <tr>\n",
       "      <td>4</td>\n",
       "      <td>0.0</td>\n",
       "      <td>0.973596</td>\n",
       "      <td>-37.370708</td>\n",
       "    </tr>\n",
       "  </tbody>\n",
       "</table>\n",
       "</div>"
      ],
      "text/plain": [
       "   y_true     y_hat  y_transformed\n",
       "0     0.0  0.944609     -17.548846\n",
       "1     0.0  0.851616      -6.225876\n",
       "2     0.0  0.937429     -15.476352\n",
       "3     0.0  0.971955     -35.154334\n",
       "4     0.0  0.973596     -37.370708"
      ]
     },
     "execution_count": 89,
     "metadata": {},
     "output_type": "execute_result"
    }
   ],
   "source": [
    "test_res.head()"
   ]
  },
  {
   "cell_type": "code",
   "execution_count": 90,
   "metadata": {},
   "outputs": [
    {
     "data": {
      "text/plain": [
       "0.0    3076\n",
       "1.0    2056\n",
       "Name: y_true, dtype: int64"
      ]
     },
     "execution_count": 90,
     "metadata": {},
     "output_type": "execute_result"
    }
   ],
   "source": [
    "# first threshold to explore is AUC oriented -36.3\n",
    "auc_based = test_res[test_res.y_transformed <= -36.3]\n",
    "auc_based.y_true.value_counts()"
   ]
  },
  {
   "cell_type": "code",
   "execution_count": 91,
   "metadata": {},
   "outputs": [
    {
     "data": {
      "text/plain": [
       "0.0    0.599376\n",
       "1.0    0.400624\n",
       "Name: y_true, dtype: float64"
      ]
     },
     "execution_count": 91,
     "metadata": {},
     "output_type": "execute_result"
    }
   ],
   "source": [
    "auc_based.y_true.value_counts()/auc_based.shape[0]"
   ]
  },
  {
   "cell_type": "markdown",
   "metadata": {},
   "source": [
    "### So, our model would target over 5k customers in a campaign 60% of which wouldn't churn, 40% with higher churn propensity. Here the model would offer incentives to 3k customers that don't need them and 2k that might need them. The question here is, how many of 2k customers we would retain and how many would churn anyway?\n",
    "\n",
    "### Unfortunately, there's no ideal solution we'd have to run campaign and study the results with A/B tests"
   ]
  },
  {
   "cell_type": "code",
   "execution_count": 92,
   "metadata": {},
   "outputs": [
    {
     "data": {
      "text/plain": [
       "0.0    1925\n",
       "1.0    1514\n",
       "Name: y_true, dtype: int64"
      ]
     },
     "execution_count": 92,
     "metadata": {},
     "output_type": "execute_result"
    }
   ],
   "source": [
    "# second threshold to explore would be Business oriented -43\n",
    "bus_based = test_res[test_res.y_transformed <= -43]\n",
    "bus_based.y_true.value_counts()"
   ]
  },
  {
   "cell_type": "code",
   "execution_count": 93,
   "metadata": {},
   "outputs": [
    {
     "data": {
      "text/plain": [
       "0.0    0.559756\n",
       "1.0    0.440244\n",
       "Name: y_true, dtype: float64"
      ]
     },
     "execution_count": 93,
     "metadata": {},
     "output_type": "execute_result"
    }
   ],
   "source": [
    "bus_based.y_true.value_counts()/bus_based.shape[0]"
   ]
  },
  {
   "cell_type": "markdown",
   "metadata": {},
   "source": [
    "### <a id='4.4'>4.4 Customer Lifetime Value</a>"
   ]
  },
  {
   "cell_type": "markdown",
   "metadata": {},
   "source": [
    "### We know now that business-oriented campaign will be smaller targeting 3.5k customers of which 55% wouldn't churn and 45% with higher churn propensity."
   ]
  },
  {
   "cell_type": "markdown",
   "metadata": {},
   "source": [
    "### One of the ways to look at this problem from business point of view is consider Customer Lifetime Value (CLV). \n",
    "\n",
    "### Where CLV = Avg. revenue per period x [ Retention Rate / (1 - Retention Rate) ] as per http://www.customer-lifetimevalue.com/\n",
    "\n",
    "### Here we will make the following assumptions. period 12 months, retention rate 0.6"
   ]
  },
  {
   "cell_type": "code",
   "execution_count": 94,
   "metadata": {},
   "outputs": [
    {
     "data": {
      "text/plain": [
       "count    51047.000000\n",
       "mean        58.654694\n",
       "std         44.557776\n",
       "min         -6.170000\n",
       "25%         33.500000\n",
       "50%         48.290000\n",
       "75%         70.960000\n",
       "max       1223.380000\n",
       "Name: MonthlyRevenue, dtype: float64"
      ]
     },
     "execution_count": 94,
     "metadata": {},
     "output_type": "execute_result"
    }
   ],
   "source": [
    "df.MonthlyRevenue.describe()"
   ]
  },
  {
   "cell_type": "code",
   "execution_count": 95,
   "metadata": {},
   "outputs": [],
   "source": [
    "# average per month and retention rate\n",
    "avg_pm = 58.5\n",
    "ret_rate = .6"
   ]
  },
  {
   "cell_type": "code",
   "execution_count": 96,
   "metadata": {},
   "outputs": [],
   "source": [
    "def clv(avg_pm, ret_rate):\n",
    "    \"\"\"\n",
    "    Example calculation of CLV per year\n",
    "    with assumed retention rate of customers.\n",
    "    \"\"\"\n",
    "    clv = 12 * avg_pm / (ret_rate/(1-ret_rate))\n",
    "    return clv"
   ]
  },
  {
   "cell_type": "code",
   "execution_count": 97,
   "metadata": {},
   "outputs": [],
   "source": [
    "cust_lv = clv(avg_pm, ret_rate)"
   ]
  },
  {
   "cell_type": "code",
   "execution_count": 98,
   "metadata": {},
   "outputs": [
    {
     "data": {
      "text/plain": [
       "468.00000000000006"
      ]
     },
     "execution_count": 98,
     "metadata": {},
     "output_type": "execute_result"
    }
   ],
   "source": [
    "cust_lv"
   ]
  },
  {
   "cell_type": "markdown",
   "metadata": {},
   "source": [
    "### If we assume that retention campaign would offer and extra 10% discount per month, we can see the impact right away for both models auc and business one. \n",
    "### To view that let's assume that campaign retains 50% of customers with high churn propensity"
   ]
  },
  {
   "cell_type": "code",
   "execution_count": 99,
   "metadata": {},
   "outputs": [],
   "source": [
    "# so we will have 4000 customers with auc model\n",
    "# and 2650 from business model\n",
    "# retention rate would be the same\n",
    "new_avg = 58.5 * .9"
   ]
  },
  {
   "cell_type": "code",
   "execution_count": 100,
   "metadata": {},
   "outputs": [
    {
     "data": {
      "text/plain": [
       "52.65"
      ]
     },
     "execution_count": 100,
     "metadata": {},
     "output_type": "execute_result"
    }
   ],
   "source": [
    "new_avg"
   ]
  },
  {
   "cell_type": "code",
   "execution_count": 101,
   "metadata": {},
   "outputs": [],
   "source": [
    "campaign_clv = clv(new_avg, ret_rate)"
   ]
  },
  {
   "cell_type": "code",
   "execution_count": 102,
   "metadata": {},
   "outputs": [
    {
     "data": {
      "text/plain": [
       "421.20000000000005"
      ]
     },
     "execution_count": 102,
     "metadata": {},
     "output_type": "execute_result"
    }
   ],
   "source": [
    "campaign_clv"
   ]
  },
  {
   "cell_type": "code",
   "execution_count": 103,
   "metadata": {},
   "outputs": [],
   "source": [
    "auc_campaing = 4000 * campaign_clv\n",
    "bus_campaign = 2650 * campaign_clv"
   ]
  },
  {
   "cell_type": "code",
   "execution_count": 104,
   "metadata": {},
   "outputs": [
    {
     "data": {
      "text/plain": [
       "(1684800.0000000002, 1116180.0000000002)"
      ]
     },
     "execution_count": 104,
     "metadata": {},
     "output_type": "execute_result"
    }
   ],
   "source": [
    "auc_campaing, bus_campaign"
   ]
  },
  {
   "cell_type": "markdown",
   "metadata": {},
   "source": [
    "### AUC campaign discounts 3k customers at 10%, BUS campaign discounts 1.9k customers at 10%. So, during the next retention cycle, customers would expect another discount for loyalty. In my opinion is better to have campaigns optimized for precision"
   ]
  },
  {
   "cell_type": "code",
   "execution_count": 105,
   "metadata": {},
   "outputs": [
    {
     "data": {
      "text/plain": [
       "0.44024425705146847"
      ]
     },
     "execution_count": 105,
     "metadata": {},
     "output_type": "execute_result"
    }
   ],
   "source": [
    "pr = precision_score(test_res.y_true, np.where(test_res.y_transformed < -43, 1, 0))\n",
    "pr"
   ]
  },
  {
   "cell_type": "code",
   "execution_count": 106,
   "metadata": {},
   "outputs": [
    {
     "data": {
      "text/plain": [
       "0.6808493966462937"
      ]
     },
     "execution_count": 106,
     "metadata": {},
     "output_type": "execute_result"
    }
   ],
   "source": [
    "acc = accuracy_score(test_res.y_true, np.where(test_res.y_transformed < -43, 1, 0))\n",
    "acc"
   ]
  },
  {
   "cell_type": "code",
   "execution_count": 107,
   "metadata": {},
   "outputs": [
    {
     "data": {
      "text/plain": [
       "0.4006235385814497"
      ]
     },
     "execution_count": 107,
     "metadata": {},
     "output_type": "execute_result"
    }
   ],
   "source": [
    "precision_score(test_res.y_true, np.where(test_res.y_transformed < -36.3, 1, 0))"
   ]
  },
  {
   "cell_type": "code",
   "execution_count": 108,
   "metadata": {},
   "outputs": [
    {
     "data": {
      "text/plain": [
       "0.6331296035104216"
      ]
     },
     "execution_count": 108,
     "metadata": {},
     "output_type": "execute_result"
    }
   ],
   "source": [
    "accuracy_score(test_res.y_true, np.where(test_res.y_transformed < -36.3, 1, 0))"
   ]
  },
  {
   "cell_type": "code",
   "execution_count": 109,
   "metadata": {},
   "outputs": [
    {
     "data": {
      "text/plain": [
       "0.4264188142515139"
      ]
     },
     "execution_count": 109,
     "metadata": {},
     "output_type": "execute_result"
    }
   ],
   "source": [
    "f1_score(test_res.y_true, np.where(test_res.y_transformed < -43, 1, 0))"
   ]
  },
  {
   "cell_type": "code",
   "execution_count": 110,
   "metadata": {},
   "outputs": [
    {
     "data": {
      "text/plain": [
       "0.46759153968614964"
      ]
     },
     "execution_count": 110,
     "metadata": {},
     "output_type": "execute_result"
    }
   ],
   "source": [
    "f1_score(test_res.y_true, np.where(test_res.y_transformed < -36.3, 1, 0))"
   ]
  },
  {
   "cell_type": "markdown",
   "metadata": {},
   "source": [
    "### <a id='5'>5. Conclusions:</a>"
   ]
  },
  {
   "cell_type": "markdown",
   "metadata": {},
   "source": [
    "### In this example we looked at the churn problem with somewhat in-depth analysis. Moreover, this example should show you the journey that most of the models built in industry are going through. Before you educate business to the terms that Data Scientists are using, you might want to simplify your solution to one that you can fully explain. Very few business units would sing-up for solution they don’t trust and understand. Building trustworthy solution is rather lengthy process, so gear-up some patience and keep going it will work eventually.\n",
    "### I would like to stress, that this is not a full solution. I got inspired by this excellent example of analysis, visualisation and multiple models in this kernel https://www.kaggle.com/pavanraj159/telecom-customer-churn-prediction. \n",
    "\n",
    "## Next steps:\n",
    "### Build multiple models to improve precision or accuracy, this you can always get from the business, they know their costs, once you explain the upside and downside of each solution. Setup A/B test to see how well campaigns are doing against treatment and control groups. Consider lift modelling to optimise specific KPI or business target. You also could like my github repo 😊 and upvote this kernel 😊 if you found it useful."
   ]
  },
  {
   "cell_type": "code",
   "execution_count": null,
   "metadata": {},
   "outputs": [],
   "source": []
  }
 ],
 "metadata": {
  "kernelspec": {
   "display_name": "Python 3",
   "language": "python",
   "name": "python3"
  },
  "language_info": {
   "codemirror_mode": {
    "name": "ipython",
    "version": 3
   },
   "file_extension": ".py",
   "mimetype": "text/x-python",
   "name": "python",
   "nbconvert_exporter": "python",
   "pygments_lexer": "ipython3",
   "version": "3.6.9"
  }
 },
 "nbformat": 4,
 "nbformat_minor": 2
}
